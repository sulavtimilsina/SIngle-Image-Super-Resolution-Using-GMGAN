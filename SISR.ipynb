{
 "cells": [
  {
   "cell_type": "code",
   "execution_count": null,
   "source": [
    "import struct\r\n",
    "import numpy as np\r\n",
    "from keras.layers import Conv2D\r\n",
    "from keras.layers import Input\r\n",
    "from keras.layers import BatchNormalization\r\n",
    "from keras.layers import LeakyReLU,Dense\r\n",
    "from keras.layers import ZeroPadding2D,Flatten\r\n",
    "from keras.layers import UpSampling2D,Lambda\r\n",
    "from keras.layers import add, Concatenate,GlobalAveragePooling2D,Softmax\r\n",
    "from keras.models import Model\r\n",
    "import tensorflow as tf\r\n",
    "from keras.applications import vgg19\r\n",
    "import tensorflow_datasets as tfds\r\n",
    "import os\r\n",
    "import cv2 \r\n",
    "from google.colab.patches import cv2_imshow\r\n",
    "from pathlib import Path\r\n",
    "from PIL import Image\r\n",
    "import matplotlib.pyplot as plt\r\n",
    "from tqdm import tqdm\r\n",
    "import pickle"
   ],
   "outputs": [],
   "metadata": {}
  },
  {
   "cell_type": "code",
   "execution_count": null,
   "source": [
    "!curl --header 'Host: data.vision.ee.ethz.ch' --user-agent 'Mozilla/5.0 (X11; Ubuntu; Linux x86_64; rv:83.0) Gecko/20100101 Firefox/83.0' --header 'Accept: text/html,application/xhtml+xml,application/xml;q=0.9,image/webp,*/*;q=0.8' --header 'Accept-Language: en-US,en;q=0.5' --header 'Upgrade-Insecure-Requests: 1' 'https://data.vision.ee.ethz.ch/cvl/DIV2K/DIV2K_train_LR_bicubic_X2.zip' --output 'DIV2K_train_LR_bicubic_X2.zip'"
   ],
   "outputs": [],
   "metadata": {}
  },
  {
   "cell_type": "code",
   "execution_count": null,
   "source": [
    "from google.colab import drive\r\n",
    "drive.mount('/content/drive')"
   ],
   "outputs": [],
   "metadata": {}
  },
  {
   "cell_type": "code",
   "execution_count": null,
   "source": [
    "from google.colab import files\r\n",
    "files.download(\"/content/drive/MyDrive/SRGAN/LRR\")"
   ],
   "outputs": [],
   "metadata": {}
  },
  {
   "cell_type": "code",
   "execution_count": null,
   "source": [
    "!unzip 'DIV2K_train_LR_bicubic_X2.zip' -d 'DATA'"
   ],
   "outputs": [],
   "metadata": {}
  },
  {
   "cell_type": "code",
   "execution_count": null,
   "source": [
    "!curl --header 'Host: data.vision.ee.ethz.ch' --user-agent 'Mozilla/5.0 (X11; Ubuntu; Linux x86_64; rv:83.0) Gecko/20100101 Firefox/83.0' --header 'Accept: text/html,application/xhtml+xml,application/xml;q=0.9,image/webp,*/*;q=0.8' --header 'Accept-Language: en-US,en;q=0.5' --header 'Upgrade-Insecure-Requests: 1' 'https://data.vision.ee.ethz.ch/cvl/DIV2K/DIV2K_train_LR_unknown_X2.zip' --output 'DIV2K_train_LR_unknown_X2.zip'"
   ],
   "outputs": [],
   "metadata": {}
  },
  {
   "cell_type": "code",
   "execution_count": null,
   "source": [
    "!unzip 'DIV2K_train_LR_unknown_X2.zip' -d 'DATA'"
   ],
   "outputs": [],
   "metadata": {}
  },
  {
   "cell_type": "code",
   "execution_count": null,
   "source": [
    "!curl --header 'Host: data.vision.ee.ethz.ch' --user-agent 'Mozilla/5.0 (X11; Ubuntu; Linux x86_64; rv:83.0) Gecko/20100101 Firefox/83.0' --header 'Accept: text/html,application/xhtml+xml,application/xml;q=0.9,image/webp,*/*;q=0.8' --header 'Accept-Language: en-US,en;q=0.5' --header 'Upgrade-Insecure-Requests: 1' 'https://data.vision.ee.ethz.ch/cvl/DIV2K/DIV2K_train_HR.zip' --output 'DIV2K_train_HR.zip'"
   ],
   "outputs": [],
   "metadata": {}
  },
  {
   "cell_type": "code",
   "execution_count": null,
   "source": [
    "!unzip 'DIV2K_train_HR.zip' -d 'train data'"
   ],
   "outputs": [],
   "metadata": {}
  },
  {
   "cell_type": "code",
   "execution_count": null,
   "source": [
    "#Getting the path to all LR images having unknown downsampling\r\n",
    "def getting_paths(dir_name,name):\r\n",
    "\r\n",
    "# \r\n",
    "    Root=Path(dir_name)\r\n",
    "    path= list(Root.glob('*.png'))\r\n",
    "\r\n",
    "    values=[str(i+1) for i in range(len(path))]\r\n",
    "    id=[]\r\n",
    "    back_name='x2.png' if name=='LR' else '.png'\r\n",
    "\r\n",
    "    for val in values:\r\n",
    "       id.append((4-len(val))*'0'+val+back_name)\r\n",
    "    path=[dir_name+i for i in id]\r\n",
    "    return path\r\n",
    "\r\n"
   ],
   "outputs": [],
   "metadata": {}
  },
  {
   "cell_type": "code",
   "execution_count": null,
   "source": [
    "LR_dir= 'DATA/DIV2K_train_LR_unknown/X2/'\r\n",
    "HR_dir= 'train data/DIV2K_train_HR/'\r\n",
    "path_to_LR= getting_paths(LR_dir,'LR')\r\n",
    "print('The total LR image size',len(path_to_LR))\r\n",
    "path_to_HR= getting_paths(HR_dir,'HR')\r\n",
    "print('The toatl HR image size',len(path_to_HR))"
   ],
   "outputs": [],
   "metadata": {}
  },
  {
   "cell_type": "code",
   "execution_count": null,
   "source": [
    "def augmentation(path_to_HR,HR_dir,path_to_LR,LR_dir):\r\n",
    "\r\n",
    "    count=800 \r\n",
    "    for i in range(800):\r\n",
    "\r\n",
    "        if np.random.sample() >0.5:\r\n",
    "\r\n",
    "            count+=1\r\n",
    "            img_HR= cv2.imread(path_to_HR[i])\r\n",
    "            img_LR= cv2.imread(path_to_LR[i])\r\n",
    "\r\n",
    "            imgflip_HR= cv2.flip(img_HR,0) #flipping the image from x-axis\r\n",
    "            imgflip_LR= cv2.flip(img_LR,0)\r\n",
    "            #Getting the location of the images\r\n",
    "           \r\n",
    "            imgHR_loc= HR_dir+(4-len(str(count)))*'0' +str(count)+'.png'\r\n",
    "            imgLR_loc= LR_dir+(4-len(str(count)))*'0' +str(count)+'x2.png'\r\n",
    "    \r\n",
    "            cv2.imwrite(imgHR_loc,imgflip_HR)\r\n",
    "            cv2.imwrite(imgLR_loc,imgflip_LR)\r\n",
    "\r\n",
    "\r\n",
    "        if np.random.sample() >0.5:\r\n",
    "\r\n",
    "            count+=1\r\n",
    "            img_HR= cv2.imread(path_to_HR[i])\r\n",
    "            img_LR= cv2.imread(path_to_LR[i])\r\n",
    "            \r\n",
    "            #Rotating the image at an angle of 90\r\n",
    "            imgflip_HR= cv2.rotate(img_HR, cv2.ROTATE_90_CLOCKWISE)\r\n",
    "            imgflip_LR= cv2.rotate(img_LR, cv2.ROTATE_90_CLOCKWISE)\r\n",
    "            #Getting the location of the images\r\n",
    "\r\n",
    "            imgHR_loc= HR_dir+(4-len(str(count)))*'0' +str(count)+'.png'\r\n",
    "            imgLR_loc= LR_dir+(4-len(str(count)))*'0' +str(count)+'x2.png'\r\n",
    "      \r\n",
    "            cv2.imwrite(imgHR_loc,imgflip_HR)\r\n",
    "            cv2.imwrite(imgLR_loc,imgflip_LR)\r\n",
    "\r\n",
    "\r\n",
    "        if np.random.sample() >0.5:\r\n",
    "\r\n",
    "            count+=1\r\n",
    "            img_HR= cv2.imread(path_to_HR[i])\r\n",
    "            img_LR= cv2.imread(path_to_LR[i])\r\n",
    "            \r\n",
    "            #Rotating the image at an angle of 270\r\n",
    "            imgflip_HR= cv2.rotate(img_HR, cv2.ROTATE_90_COUNTERCLOCKWISE) \r\n",
    "            imgflip_LR= cv2.rotate(img_LR, cv2.ROTATE_90_COUNTERCLOCKWISE) \r\n",
    "            \r\n",
    "            #Getting the location of the images\r\n",
    "\r\n",
    "            imgHR_loc= HR_dir+(4-len(str(count)))*'0' +str(count)+'.png'\r\n",
    "            imgLR_loc= LR_dir+(4-len(str(count)))*'0' +str(count)+'x2.png'\r\n",
    "       \r\n",
    "            cv2.imwrite(imgHR_loc,imgflip_HR)\r\n",
    "            cv2.imwrite(imgLR_loc,imgflip_LR)   \r\n",
    "\r\n",
    "\r\n"
   ],
   "outputs": [],
   "metadata": {}
  },
  {
   "cell_type": "code",
   "execution_count": null,
   "source": [
    "augmentation(path_to_HR,HR_dir,path_to_LR,LR_dir)\r\n",
    "path_to_LR= getting_paths(LR_dir,'LR')\r\n",
    "print('The total LR image size after augmentation',len(path_to_LR))\r\n",
    "path_to_HR= getting_paths(HR_dir,'HR')\r\n",
    "print('The toatl HR image size after augmentation',len(path_to_HR))"
   ],
   "outputs": [],
   "metadata": {}
  },
  {
   "cell_type": "code",
   "execution_count": null,
   "source": [
    "parent_dir = \"/content/drive/MyDrive/SRGAN/5LR\"\r\n",
    "# directory=0\r\n",
    "for a1 in range(35):\r\n",
    "  # if a1%10 ==0:\r\n",
    "    # directory +=1\r\n",
    "  path = os.path.join(parent_dir, str(a1+1))\r\n",
    "  os.mkdir(path)"
   ],
   "outputs": [],
   "metadata": {}
  },
  {
   "cell_type": "code",
   "execution_count": null,
   "source": [
    "# @tf.function\r\n",
    "def Total_patches(paths,patch_size,name):\r\n",
    "    \r\n",
    "    total_data=[]\r\n",
    "    shapes_img=[]\r\n",
    "    count=1\r\n",
    "    for path in tqdm(paths):\r\n",
    "         \r\n",
    "        patch,sh,count=getting_patches(path,patch_size,name,count)\r\n",
    "        # print(sh)\r\n",
    "        total_data.extend(patch)\r\n",
    "        shapes_img.extend(sh)\r\n",
    "    loc='/content/drive/MyDrive/SRGAN/5LR'+'.pkl'   \r\n",
    "    with open(loc,'wb') as f:\r\n",
    "         pickle.dump(shapes_img,f)\r\n",
    "\r\n",
    "#getting patches of the input images\r\n",
    "def getting_patches(paths,patch_size,name,count):\r\n",
    "\r\n",
    "    scale= 1 if name=='LR' else 2\r\n",
    "    patch_size=patch_size*scale\r\n",
    "    for i in range(1):\r\n",
    "        patches=[]\r\n",
    "        shapes=[]\r\n",
    "        image= cv2.imread(paths, cv2.IMREAD_UNCHANGED)\r\n",
    "        ny= image.shape[0]//patch_size\r\n",
    "        nx= image.shape[1]//patch_size\r\n",
    "        shapes.append([ny,nx])\r\n",
    "\r\n",
    "\r\n",
    "        for i in range(ny):\r\n",
    "\r\n",
    "          starty=i*patch_size\r\n",
    "\r\n",
    "          for j in range(nx):\r\n",
    "\r\n",
    "            start= j*patch_size\r\n",
    "            end= patch_size + j*patch_size\r\n",
    "\r\n",
    "            Lr_patch= image[starty:patch_size+starty,start:end]\r\n",
    "            # Lr_patch= image[:patch_size,start:en\r\n",
    "            # parent_dir=\"/content/drive/MyDrive/SRGAN/5LR/\"\r\n",
    "            # directory=1\r\n",
    "            # if count%7500==0:\r\n",
    "            #   directory +=1\r\n",
    "            #   pathh = os.path.join(parent_dir, str(directory))\r\n",
    "            #   os.mkdir(pathh)\r\n",
    "\r\n",
    "            folder=1\r\n",
    "            if count%7500 == 1:\r\n",
    "              folder = + 1\r\n",
    "            location='/content/drive/MyDrive/SRGAN/5LR/'+str(folder)+'/'+str(count)+'.png'\r\n",
    "            # location= pathh +\"/\"+str(count)+'.png'\r\n",
    "\r\n",
    "            count=count+1\r\n",
    "            cv2.imwrite(location,Lr_patch)\r\n",
    "            patches.append(Lr_patch)\r\n",
    "\r\n",
    "\r\n",
    "    return patches,shapes,count\r\n",
    "\r\n",
    "\r\n",
    "#combining the patches\r\n",
    "def combine_patches(patches,shapes):\r\n",
    "  \r\n",
    "      h,w= shapes\r\n",
    "      horizontal_image=[] \r\n",
    "\r\n",
    "      for i in range(h):\r\n",
    "        image= np.hstack((patches[i*w],patches[i*w+1])) #combining first two patched images\r\n",
    "        index= i*w+2 #As the first two patched imaged have been combined, now index selects third image\r\n",
    "\r\n",
    "        for j in range(w-2): #-2 because the first the patches have been joined already\r\n",
    "            image=np.hstack((image,patches[index+j]))\r\n",
    "         \r\n",
    "        horizontal_image.append(image) \r\n",
    "    \r\n",
    "      actual_image=np.vstack((horizontal_image[0],horizontal_image[1]))\r\n",
    "      for i in range(h-2):\r\n",
    "        actual_image= np.vstack((actual_image,horizontal_image[2+i]))\r\n",
    "\r\n",
    "      return actual_image    \r\n",
    "\r\n",
    "\r\n",
    "def Total_combine_patches(patches,shapes,data_size,image_index=None):\r\n",
    "\r\n",
    "  temporary= 0   \r\n",
    "  total_actual_image=[]\r\n",
    "  if image_index != None:\r\n",
    "      image_index=image_index-1\r\n",
    "      for i in range(image_index):\r\n",
    "          hs= shapes[i][0]          \r\n",
    "          ws= shapes[i][1]\r\n",
    "          temporary= temporary+hs*ws\r\n",
    "       \r\n",
    "      h_,w_= shapes[image_index]\r\n",
    "      return  combine_patches(patches[temporary:temporary+h_*w_],shapes[image_index])   \r\n",
    "\r\n",
    "\r\n",
    "  for i in tqdm(range(data_size)):  \r\n",
    "      h,w= shapes[i]\r\n",
    "      image=combine_patches(patches[temporary:temporary+h*w],shapes[i])\r\n",
    "      total_actual_image.append(image)\r\n",
    "      temporary= h*w+temporary      \r\n",
    "\r\n",
    "  return total_actual_image\r\n",
    "    \r\n"
   ],
   "outputs": [],
   "metadata": {}
  },
  {
   "cell_type": "code",
   "execution_count": null,
   "source": [
    "Total_patches(path_to_LR,48,'LR')"
   ],
   "outputs": [],
   "metadata": {}
  },
  {
   "cell_type": "code",
   "execution_count": null,
   "source": [
    "a=os.listdir('/content/drive/My Drive/SRGAN/HR')\r\n",
    "img= cv2.imread('/content/drive/My Drive/SRGAN/HR/5.png')\r\n",
    "# cv2_imshow(img)\r\n",
    "ar=np.empty(shape=(294,96,96,3))\r\n",
    "for i in range(294):\r\n",
    "    loc='drive/My Drive/SRGAN/HR' + a[i]\r\n",
    "    print\r\n",
    "    ar[i]= cv2.imread(loc)\r\n"
   ],
   "outputs": [],
   "metadata": {}
  },
  {
   "cell_type": "code",
   "execution_count": null,
   "source": [],
   "outputs": [],
   "metadata": {}
  },
  {
   "cell_type": "code",
   "execution_count": null,
   "source": [],
   "outputs": [],
   "metadata": {}
  }
 ],
 "metadata": {
  "orig_nbformat": 4,
  "language_info": {
   "name": "python"
  }
 },
 "nbformat": 4,
 "nbformat_minor": 2
}