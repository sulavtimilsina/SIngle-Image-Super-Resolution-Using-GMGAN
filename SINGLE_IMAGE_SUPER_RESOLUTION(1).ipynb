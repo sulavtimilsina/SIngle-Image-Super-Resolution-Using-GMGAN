{
  "nbformat": 4,
  "nbformat_minor": 0,
  "metadata": {
    "colab": {
      "name": "SINGLE IMAGE SUPER RESOLUTION",
      "provenance": [],
      "collapsed_sections": [],
      "machine_shape": "hm"
    },
    "kernelspec": {
      "display_name": "Python 3",
      "name": "python3"
    }
  },
  "cells": [
    {
      "cell_type": "code",
      "metadata": {
        "id": "8ovNdix0Ekzz"
      },
      "source": [
        "import struct\n",
        "import numpy as np\n",
        "from keras.layers import Conv2D\n",
        "from keras.layers import Input\n",
        "from keras.layers import BatchNormalization\n",
        "from keras.layers import LeakyReLU,Dense\n",
        "from keras.layers import ZeroPadding2D,Flatten\n",
        "from keras.layers import UpSampling2D,Lambda\n",
        "from keras.layers import add, Concatenate,GlobalAveragePooling2D,Softmax\n",
        "from keras.models import Model\n",
        "import tensorflow as tf\n",
        "from keras.applications import vgg19\n",
        "import tensorflow_datasets as tfds\n",
        "import os\n",
        "import cv2 \n",
        "from google.colab.patches import cv2_imshow\n",
        "from pathlib import Path\n",
        "from PIL import Image\n",
        "import matplotlib.pyplot as plt\n",
        "from tqdm import tqdm\n",
        "import pickle"
      ],
      "execution_count": null,
      "outputs": []
    },
    {
      "cell_type": "code",
      "metadata": {
        "id": "JW8C0IdZ4mFn"
      },
      "source": [
        "!rm -r sample_data"
      ],
      "execution_count": null,
      "outputs": []
    },
    {
      "cell_type": "code",
      "metadata": {
        "colab": {
          "base_uri": "https://localhost:8080/"
        },
        "id": "_HiNQet9fW6v",
        "outputId": "13ad9d3b-672b-4076-8229-391167b98525"
      },
      "source": [
        "!curl --header 'Host: data.vision.ee.ethz.ch' --user-agent 'Mozilla/5.0 (X11; Ubuntu; Linux x86_64; rv:83.0) Gecko/20100101 Firefox/83.0' --header 'Accept: text/html,application/xhtml+xml,application/xml;q=0.9,image/webp,*/*;q=0.8' --header 'Accept-Language: en-US,en;q=0.5' --header 'Upgrade-Insecure-Requests: 1' 'https://data.vision.ee.ethz.ch/cvl/DIV2K/DIV2K_train_LR_bicubic_X2.zip' --output 'DIV2K_train_LR_bicubic_X2.zip'"
      ],
      "execution_count": null,
      "outputs": [
        {
          "output_type": "stream",
          "name": "stdout",
          "text": [
            "  % Total    % Received % Xferd  Average Speed   Time    Time     Time  Current\n",
            "                                 Dload  Upload   Total   Spent    Left  Speed\n",
            "100  882M  100  882M    0     0   156M      0  0:00:05  0:00:05 --:--:--  162M\n"
          ]
        }
      ]
    },
    {
      "cell_type": "code",
      "metadata": {
        "colab": {
          "base_uri": "https://localhost:8080/"
        },
        "id": "h7XCeAotk5iI",
        "outputId": "c999cd18-dfe9-40c1-c5b8-adae1c9c8767"
      },
      "source": [
        "from google.colab import drive\n",
        "drive.mount('/content/drive')"
      ],
      "execution_count": null,
      "outputs": [
        {
          "output_type": "stream",
          "name": "stdout",
          "text": [
            "Mounted at /content/drive\n"
          ]
        }
      ]
    },
    {
      "cell_type": "code",
      "metadata": {
        "colab": {
          "base_uri": "https://localhost:8080/"
        },
        "id": "StHgyEbSQayt",
        "outputId": "355e88cb-d7a6-4e06-ae42-086505d0f435"
      },
      "source": [
        "# !zip -r /content/ZipLR.zip /content/lr/LR"
      ],
      "execution_count": null,
      "outputs": [
        {
          "output_type": "stream",
          "name": "stdout",
          "text": [
            "  adding: content/lr/LR/ (stored 0%)\n"
          ]
        }
      ]
    },
    {
      "cell_type": "code",
      "metadata": {
        "colab": {
          "base_uri": "https://localhost:8080/"
        },
        "id": "aqZfPHTTQawt",
        "outputId": "f982463c-8ca7-4f1b-e7c7-b24cb7402310"
      },
      "source": [
        "! du -sh /content/drive/MyDrive/SRGAN/HR"
      ],
      "execution_count": null,
      "outputs": [
        {
          "output_type": "stream",
          "name": "stdout",
          "text": [
            "du: cannot read directory '/content/drive/MyDrive/SRGAN/HR': Input/output error\n",
            "4.0K\t/content/drive/MyDrive/SRGAN/HR\n"
          ]
        }
      ]
    },
    {
      "cell_type": "code",
      "metadata": {
        "id": "-g6H9tkkQaul"
      },
      "source": [
        "from google.colab import files\n",
        "files.download(\"/content/drive/MyDrive/SRGAN/LRR\")"
      ],
      "execution_count": null,
      "outputs": []
    },
    {
      "cell_type": "code",
      "metadata": {
        "id": "qTFdVuUhQasO"
      },
      "source": [
        ""
      ],
      "execution_count": null,
      "outputs": []
    },
    {
      "cell_type": "code",
      "metadata": {
        "id": "NQj3b6NQhEYm"
      },
      "source": [
        "!unzip 'DIV2K_train_LR_bicubic_X2.zip' -d 'DATA'"
      ],
      "execution_count": null,
      "outputs": []
    },
    {
      "cell_type": "code",
      "metadata": {
        "colab": {
          "base_uri": "https://localhost:8080/"
        },
        "id": "20DrutEtjNjg",
        "outputId": "f59a8c4a-99f8-4e45-de7b-2c0794920d39"
      },
      "source": [
        "!curl --header 'Host: data.vision.ee.ethz.ch' --user-agent 'Mozilla/5.0 (X11; Ubuntu; Linux x86_64; rv:83.0) Gecko/20100101 Firefox/83.0' --header 'Accept: text/html,application/xhtml+xml,application/xml;q=0.9,image/webp,*/*;q=0.8' --header 'Accept-Language: en-US,en;q=0.5' --header 'Upgrade-Insecure-Requests: 1' 'https://data.vision.ee.ethz.ch/cvl/DIV2K/DIV2K_train_LR_unknown_X2.zip' --output 'DIV2K_train_LR_unknown_X2.zip'"
      ],
      "execution_count": null,
      "outputs": [
        {
          "output_type": "stream",
          "name": "stdout",
          "text": [
            "  % Total    % Received % Xferd  Average Speed   Time    Time     Time  Current\n",
            "                                 Dload  Upload   Total   Spent    Left  Speed\n",
            "100  700M  100  700M    0     0   136M      0  0:00:05  0:00:05 --:--:--  148M\n"
          ]
        }
      ]
    },
    {
      "cell_type": "code",
      "metadata": {
        "id": "qgH7DSocic6C"
      },
      "source": [
        "!unzip 'DIV2K_train_LR_unknown_X2.zip' -d 'DATA'"
      ],
      "execution_count": null,
      "outputs": []
    },
    {
      "cell_type": "code",
      "metadata": {
        "colab": {
          "base_uri": "https://localhost:8080/"
        },
        "id": "lCUdcMEXkolu",
        "outputId": "1e3be3fc-5579-4880-c70a-414163f26d5c"
      },
      "source": [
        "!curl --header 'Host: data.vision.ee.ethz.ch' --user-agent 'Mozilla/5.0 (X11; Ubuntu; Linux x86_64; rv:83.0) Gecko/20100101 Firefox/83.0' --header 'Accept: text/html,application/xhtml+xml,application/xml;q=0.9,image/webp,*/*;q=0.8' --header 'Accept-Language: en-US,en;q=0.5' --header 'Upgrade-Insecure-Requests: 1' 'https://data.vision.ee.ethz.ch/cvl/DIV2K/DIV2K_train_HR.zip' --output 'DIV2K_train_HR.zip'"
      ],
      "execution_count": null,
      "outputs": [
        {
          "output_type": "stream",
          "name": "stdout",
          "text": [
            "  % Total    % Received % Xferd  Average Speed   Time    Time     Time  Current\n",
            "                                 Dload  Upload   Total   Spent    Left  Speed\n",
            "100 3367M  100 3367M    0     0  44.0M      0  0:01:16  0:01:16 --:--:-- 41.1M\n"
          ]
        }
      ]
    },
    {
      "cell_type": "code",
      "metadata": {
        "id": "UdTZvYBUkrPW"
      },
      "source": [
        "!unzip 'DIV2K_train_HR.zip' -d 'train data'"
      ],
      "execution_count": null,
      "outputs": []
    },
    {
      "cell_type": "code",
      "metadata": {
        "id": "9ubDG001xL23"
      },
      "source": [
        "#Getting the path to all LR images having unknown downsampling\n",
        "def getting_paths(dir_name,name):\n",
        "\n",
        "# \n",
        "    Root=Path(dir_name)\n",
        "    path= list(Root.glob('*.png'))\n",
        "\n",
        "    values=[str(i+1) for i in range(len(path))]\n",
        "    id=[]\n",
        "    back_name='x2.png' if name=='LR' else '.png'\n",
        "\n",
        "    for val in values:\n",
        "       id.append((4-len(val))*'0'+val+back_name)\n",
        "    path=[dir_name+i for i in id]\n",
        "    return path\n",
        "\n"
      ],
      "execution_count": null,
      "outputs": []
    },
    {
      "cell_type": "code",
      "metadata": {
        "colab": {
          "base_uri": "https://localhost:8080/"
        },
        "id": "3fZD0vGHgTdd",
        "outputId": "ab076718-0ceb-4745-850c-a0df376b22a0"
      },
      "source": [
        "LR_dir= 'DATA/DIV2K_train_LR_unknown/X2/'\n",
        "HR_dir= 'train data/DIV2K_train_HR/'\n",
        "path_to_LR= getting_paths(LR_dir,'LR')\n",
        "print('The total LR image size',len(path_to_LR))\n",
        "path_to_HR= getting_paths(HR_dir,'HR')\n",
        "print('The toatl HR image size',len(path_to_HR))"
      ],
      "execution_count": null,
      "outputs": [
        {
          "output_type": "stream",
          "name": "stdout",
          "text": [
            "The total LR image size 800\n",
            "The toatl HR image size 800\n"
          ]
        }
      ]
    },
    {
      "cell_type": "markdown",
      "metadata": {
        "id": "NQq7f6_KSZOa"
      },
      "source": [
        "### Image **augmentation**"
      ]
    },
    {
      "cell_type": "code",
      "metadata": {
        "id": "A2dZ4EhzSbbW"
      },
      "source": [
        "def augmentation(path_to_HR,HR_dir,path_to_LR,LR_dir):\n",
        "\n",
        "    count=800 \n",
        "    for i in range(800):\n",
        "\n",
        "        if np.random.sample() >0.5:\n",
        "\n",
        "            count+=1\n",
        "            img_HR= cv2.imread(path_to_HR[i])\n",
        "            img_LR= cv2.imread(path_to_LR[i])\n",
        "\n",
        "            imgflip_HR= cv2.flip(img_HR,0) #flipping the image from x-axis\n",
        "            imgflip_LR= cv2.flip(img_LR,0)\n",
        "            #Getting the location of the images\n",
        "           \n",
        "            imgHR_loc= HR_dir+(4-len(str(count)))*'0' +str(count)+'.png'\n",
        "            imgLR_loc= LR_dir+(4-len(str(count)))*'0' +str(count)+'x2.png'\n",
        "    \n",
        "            cv2.imwrite(imgHR_loc,imgflip_HR)\n",
        "            cv2.imwrite(imgLR_loc,imgflip_LR)\n",
        "\n",
        "\n",
        "        if np.random.sample() >0.5:\n",
        "\n",
        "            count+=1\n",
        "            img_HR= cv2.imread(path_to_HR[i])\n",
        "            img_LR= cv2.imread(path_to_LR[i])\n",
        "            \n",
        "            #Rotating the image at an angle of 90\n",
        "            imgflip_HR= cv2.rotate(img_HR, cv2.ROTATE_90_CLOCKWISE)\n",
        "            imgflip_LR= cv2.rotate(img_LR, cv2.ROTATE_90_CLOCKWISE)\n",
        "            #Getting the location of the images\n",
        "\n",
        "            imgHR_loc= HR_dir+(4-len(str(count)))*'0' +str(count)+'.png'\n",
        "            imgLR_loc= LR_dir+(4-len(str(count)))*'0' +str(count)+'x2.png'\n",
        "      \n",
        "            cv2.imwrite(imgHR_loc,imgflip_HR)\n",
        "            cv2.imwrite(imgLR_loc,imgflip_LR)\n",
        "\n",
        "\n",
        "        if np.random.sample() >0.5:\n",
        "\n",
        "            count+=1\n",
        "            img_HR= cv2.imread(path_to_HR[i])\n",
        "            img_LR= cv2.imread(path_to_LR[i])\n",
        "            \n",
        "            #Rotating the image at an angle of 270\n",
        "            imgflip_HR= cv2.rotate(img_HR, cv2.ROTATE_90_COUNTERCLOCKWISE) \n",
        "            imgflip_LR= cv2.rotate(img_LR, cv2.ROTATE_90_COUNTERCLOCKWISE) \n",
        "            \n",
        "            #Getting the location of the images\n",
        "\n",
        "            imgHR_loc= HR_dir+(4-len(str(count)))*'0' +str(count)+'.png'\n",
        "            imgLR_loc= LR_dir+(4-len(str(count)))*'0' +str(count)+'x2.png'\n",
        "       \n",
        "            cv2.imwrite(imgHR_loc,imgflip_HR)\n",
        "            cv2.imwrite(imgLR_loc,imgflip_LR)   \n",
        "\n",
        "\n"
      ],
      "execution_count": null,
      "outputs": []
    },
    {
      "cell_type": "code",
      "metadata": {
        "colab": {
          "base_uri": "https://localhost:8080/"
        },
        "id": "uVTA5DfMWgxD",
        "outputId": "0a338e7c-0758-45d0-e952-bf857930649a"
      },
      "source": [
        "augmentation(path_to_HR,HR_dir,path_to_LR,LR_dir)\n",
        "path_to_LR= getting_paths(LR_dir,'LR')\n",
        "print('The total LR image size after augmentation',len(path_to_LR))\n",
        "path_to_HR= getting_paths(HR_dir,'HR')\n",
        "print('The toatl HR image size after augmentation',len(path_to_HR))"
      ],
      "execution_count": null,
      "outputs": [
        {
          "output_type": "stream",
          "name": "stdout",
          "text": [
            "The total LR image size after augmentation 1993\n",
            "The toatl HR image size after augmentation 1993\n"
          ]
        }
      ]
    },
    {
      "cell_type": "code",
      "metadata": {
        "id": "cV3CkGZRSITX"
      },
      "source": [
        "parent_dir = \"/content/drive/MyDrive/SRGAN/5LR\"\n",
        "# directory=0\n",
        "for a1 in range(35):\n",
        "  # if a1%10 ==0:\n",
        "    # directory +=1\n",
        "  path = os.path.join(parent_dir, str(a1+1))\n",
        "  os.mkdir(path)"
      ],
      "execution_count": null,
      "outputs": []
    },
    {
      "cell_type": "code",
      "metadata": {
        "colab": {
          "base_uri": "https://localhost:8080/"
        },
        "id": "T7ALVb1QSIRI",
        "outputId": "8603add0-bd91-441f-c108-67feb97e0588"
      },
      "source": [
        "106726%5000"
      ],
      "execution_count": null,
      "outputs": [
        {
          "output_type": "execute_result",
          "data": {
            "text/plain": [
              "1726"
            ]
          },
          "metadata": {},
          "execution_count": 20
        }
      ]
    },
    {
      "cell_type": "code",
      "metadata": {
        "colab": {
          "base_uri": "https://localhost:8080/"
        },
        "id": "_MlseYbiSIOy",
        "outputId": "31de9ca3-075e-4353-ae2c-fca9e237cc12"
      },
      "source": [
        "al = \"he/haha/\"\n",
        "newp = al + str(4)+ \"png\"\n",
        "print(newp)"
      ],
      "execution_count": null,
      "outputs": [
        {
          "output_type": "stream",
          "name": "stdout",
          "text": [
            "he/haha/4png\n"
          ]
        }
      ]
    },
    {
      "cell_type": "code",
      "metadata": {
        "id": "3EnBkgZRnB99"
      },
      "source": [
        "# @tf.function\n",
        "def Total_patches(paths,patch_size,name):\n",
        "    \n",
        "    total_data=[]\n",
        "    shapes_img=[]\n",
        "    count=1\n",
        "    for path in tqdm(paths):\n",
        "         \n",
        "        patch,sh,count=getting_patches(path,patch_size,name,count)\n",
        "        # print(sh)\n",
        "        total_data.extend(patch)\n",
        "        shapes_img.extend(sh)\n",
        "    loc='/content/drive/MyDrive/SRGAN/5LR'+'.pkl'   \n",
        "    with open(loc,'wb') as f:\n",
        "         pickle.dump(shapes_img,f)\n",
        "\n",
        "#getting patches of the input images\n",
        "def getting_patches(paths,patch_size,name,count):\n",
        "\n",
        "    scale= 1 if name=='LR' else 2\n",
        "    patch_size=patch_size*scale\n",
        "    for i in range(1):\n",
        "        patches=[]\n",
        "        shapes=[]\n",
        "        image= cv2.imread(paths, cv2.IMREAD_UNCHANGED)\n",
        "        ny= image.shape[0]//patch_size\n",
        "        nx= image.shape[1]//patch_size\n",
        "        shapes.append([ny,nx])\n",
        "\n",
        "\n",
        "        for i in range(ny):\n",
        "\n",
        "          starty=i*patch_size\n",
        "\n",
        "          for j in range(nx):\n",
        "\n",
        "            start= j*patch_size\n",
        "            end= patch_size + j*patch_size\n",
        "\n",
        "            Lr_patch= image[starty:patch_size+starty,start:end]\n",
        "            # Lr_patch= image[:patch_size,start:en\n",
        "            # parent_dir=\"/content/drive/MyDrive/SRGAN/5LR/\"\n",
        "            # directory=1\n",
        "            # if count%7500==0:\n",
        "            #   directory +=1\n",
        "            #   pathh = os.path.join(parent_dir, str(directory))\n",
        "            #   os.mkdir(pathh)\n",
        "\n",
        "            folder=1\n",
        "            if count%7500 == 1:\n",
        "              folder = + 1\n",
        "            location='/content/drive/MyDrive/SRGAN/5LR/'+str(folder)+'/'+str(count)+'.png'\n",
        "            # location= pathh +\"/\"+str(count)+'.png'\n",
        "\n",
        "            count=count+1\n",
        "            cv2.imwrite(location,Lr_patch)\n",
        "            patches.append(Lr_patch)\n",
        "\n",
        "\n",
        "    return patches,shapes,count\n",
        "\n",
        "\n",
        "#combining the patches\n",
        "def combine_patches(patches,shapes):\n",
        "  \n",
        "      h,w= shapes\n",
        "      horizontal_image=[] \n",
        "\n",
        "      for i in range(h):\n",
        "        image= np.hstack((patches[i*w],patches[i*w+1])) #combining first two patched images\n",
        "        index= i*w+2 #As the first two patched imaged have been combined, now index selects third image\n",
        "\n",
        "        for j in range(w-2): #-2 because the first the patches have been joined already\n",
        "            image=np.hstack((image,patches[index+j]))\n",
        "         \n",
        "        horizontal_image.append(image) \n",
        "    \n",
        "      actual_image=np.vstack((horizontal_image[0],horizontal_image[1]))\n",
        "      for i in range(h-2):\n",
        "        actual_image= np.vstack((actual_image,horizontal_image[2+i]))\n",
        "\n",
        "      return actual_image    \n",
        "\n",
        "\n",
        "def Total_combine_patches(patches,shapes,data_size,image_index=None):\n",
        "\n",
        "  temporary= 0   \n",
        "  total_actual_image=[]\n",
        "  if image_index != None:\n",
        "      image_index=image_index-1\n",
        "      for i in range(image_index):\n",
        "          hs= shapes[i][0]          \n",
        "          ws= shapes[i][1]\n",
        "          temporary= temporary+hs*ws\n",
        "       \n",
        "      h_,w_= shapes[image_index]\n",
        "      return  combine_patches(patches[temporary:temporary+h_*w_],shapes[image_index])   \n",
        "\n",
        "\n",
        "  for i in tqdm(range(data_size)):  \n",
        "      h,w= shapes[i]\n",
        "      image=combine_patches(patches[temporary:temporary+h*w],shapes[i])\n",
        "      total_actual_image.append(image)\n",
        "      temporary= h*w+temporary      \n",
        "\n",
        "  return total_actual_image\n",
        "    \n"
      ],
      "execution_count": null,
      "outputs": []
    },
    {
      "cell_type": "code",
      "metadata": {
        "colab": {
          "base_uri": "https://localhost:8080/"
        },
        "id": "s6-6ga2SAiNR",
        "outputId": "df861410-031d-4f68-f429-abdafc8e674e"
      },
      "source": [
        "len(path_to_LR)"
      ],
      "execution_count": null,
      "outputs": [
        {
          "output_type": "execute_result",
          "data": {
            "text/plain": [
              "1993"
            ]
          },
          "metadata": {},
          "execution_count": 51
        }
      ]
    },
    {
      "cell_type": "code",
      "metadata": {
        "colab": {
          "base_uri": "https://localhost:8080/"
        },
        "id": "qr-9OBmzWnnV",
        "outputId": "75bd198b-8648-42cb-a56c-fe0aeffa3a58"
      },
      "source": [
        "Total_patches(path_to_LR,48,'LR')"
      ],
      "execution_count": null,
      "outputs": [
        {
          "output_type": "stream",
          "name": "stderr",
          "text": [
            "100%|██████████| 1993/1993 [1:00:09<00:00,  1.81s/it]\n"
          ]
        }
      ]
    },
    {
      "cell_type": "code",
      "metadata": {
        "id": "GM44t8MWvJCE"
      },
      "source": [
        "/content/drive/MyDrive/SRGAN/LR"
      ],
      "execution_count": null,
      "outputs": []
    },
    {
      "cell_type": "code",
      "metadata": {
        "id": "MKl3I3VG1lOb"
      },
      "source": [
        "a=os.listdir('/content/drive/My Drive/SRGAN/HR')\n",
        "img= cv2.imread('/content/drive/My Drive/SRGAN/HR/5.png')\n",
        "# cv2_imshow(img)\n",
        "ar=np.empty(shape=(294,96,96,3))\n",
        "for i in range(294):\n",
        "    loc='drive/My Drive/SRGAN/HR' + a[i]\n",
        "    print\n",
        "    ar[i]= cv2.imread(loc)\n"
      ],
      "execution_count": null,
      "outputs": []
    },
    {
      "cell_type": "code",
      "metadata": {
        "id": "NOyX87ix-1jg"
      },
      "source": [
        "img= cv2.imread('drive/My Drive/SRGAN/HR/5.png')\n"
      ],
      "execution_count": null,
      "outputs": []
    },
    {
      "cell_type": "code",
      "metadata": {
        "colab": {
          "background_save": true
        },
        "id": "Z3uIDF07-1hQ",
        "outputId": "01029a0a-31dd-47f5-f6d5-562d7c1025bb"
      },
      "source": [
        "cv2_imshow(img)"
      ],
      "execution_count": null,
      "outputs": [
        {
          "ename": "AttributeError",
          "evalue": "ignored",
          "output_type": "error",
          "traceback": [
            "\u001b[0;31m---------------------------------------------------------------------------\u001b[0m",
            "\u001b[0;31mAttributeError\u001b[0m                            Traceback (most recent call last)",
            "\u001b[0;32m<ipython-input-9-d0027ef4e25a>\u001b[0m in \u001b[0;36m<module>\u001b[0;34m()\u001b[0m\n\u001b[0;32m----> 1\u001b[0;31m \u001b[0mcv2_imshow\u001b[0m\u001b[0;34m(\u001b[0m\u001b[0mimg\u001b[0m\u001b[0;34m)\u001b[0m\u001b[0;34m\u001b[0m\u001b[0;34m\u001b[0m\u001b[0m\n\u001b[0m",
            "\u001b[0;32m/usr/local/lib/python3.7/dist-packages/google/colab/patches/__init__.py\u001b[0m in \u001b[0;36mcv2_imshow\u001b[0;34m(a)\u001b[0m\n\u001b[1;32m     20\u001b[0m       \u001b[0mimage\u001b[0m\u001b[0;34m.\u001b[0m\u001b[0;34m\u001b[0m\u001b[0;34m\u001b[0m\u001b[0m\n\u001b[1;32m     21\u001b[0m   \"\"\"\n\u001b[0;32m---> 22\u001b[0;31m   \u001b[0ma\u001b[0m \u001b[0;34m=\u001b[0m \u001b[0ma\u001b[0m\u001b[0;34m.\u001b[0m\u001b[0mclip\u001b[0m\u001b[0;34m(\u001b[0m\u001b[0;36m0\u001b[0m\u001b[0;34m,\u001b[0m \u001b[0;36m255\u001b[0m\u001b[0;34m)\u001b[0m\u001b[0;34m.\u001b[0m\u001b[0mastype\u001b[0m\u001b[0;34m(\u001b[0m\u001b[0;34m'uint8'\u001b[0m\u001b[0;34m)\u001b[0m\u001b[0;34m\u001b[0m\u001b[0;34m\u001b[0m\u001b[0m\n\u001b[0m\u001b[1;32m     23\u001b[0m   \u001b[0;31m# cv2 stores colors as BGR; convert to RGB\u001b[0m\u001b[0;34m\u001b[0m\u001b[0;34m\u001b[0m\u001b[0;34m\u001b[0m\u001b[0m\n\u001b[1;32m     24\u001b[0m   \u001b[0;32mif\u001b[0m \u001b[0ma\u001b[0m\u001b[0;34m.\u001b[0m\u001b[0mndim\u001b[0m \u001b[0;34m==\u001b[0m \u001b[0;36m3\u001b[0m\u001b[0;34m:\u001b[0m\u001b[0;34m\u001b[0m\u001b[0;34m\u001b[0m\u001b[0m\n",
            "\u001b[0;31mAttributeError\u001b[0m: 'NoneType' object has no attribute 'clip'"
          ]
        }
      ]
    },
    {
      "cell_type": "code",
      "metadata": {
        "colab": {
          "background_save": true
        },
        "id": "eERKwZ-z356E",
        "outputId": "a08a1f14-8c35-4c5d-a419-73d8e510ec27"
      },
      "source": [
        "img= combine_patches(ar,shapes_HR[0])\n",
        "cv2_imshow(img)"
      ],
      "execution_count": null,
      "outputs": [
        {
          "ename": "NameError",
          "evalue": "ignored",
          "output_type": "error",
          "traceback": [
            "\u001b[0;31m---------------------------------------------------------------------------\u001b[0m",
            "\u001b[0;31mNameError\u001b[0m                                 Traceback (most recent call last)",
            "\u001b[0;32m<ipython-input-14-249ed1b355b2>\u001b[0m in \u001b[0;36m<module>\u001b[0;34m()\u001b[0m\n\u001b[0;32m----> 1\u001b[0;31m \u001b[0mimg\u001b[0m\u001b[0;34m=\u001b[0m \u001b[0mcombine_patches\u001b[0m\u001b[0;34m(\u001b[0m\u001b[0mar\u001b[0m\u001b[0;34m,\u001b[0m\u001b[0mshapes_HR\u001b[0m\u001b[0;34m[\u001b[0m\u001b[0;36m0\u001b[0m\u001b[0;34m]\u001b[0m\u001b[0;34m)\u001b[0m\u001b[0;34m\u001b[0m\u001b[0;34m\u001b[0m\u001b[0m\n\u001b[0m\u001b[1;32m      2\u001b[0m \u001b[0mcv2_imshow\u001b[0m\u001b[0;34m(\u001b[0m\u001b[0mimg\u001b[0m\u001b[0;34m)\u001b[0m\u001b[0;34m\u001b[0m\u001b[0;34m\u001b[0m\u001b[0m\n",
            "\u001b[0;31mNameError\u001b[0m: name 'combine_patches' is not defined"
          ]
        }
      ]
    },
    {
      "cell_type": "code",
      "metadata": {
        "colab": {
          "base_uri": "https://localhost:8080/"
        },
        "id": "uFqYTiAk4qDa",
        "outputId": "54affc0d-a136-476f-a0e6-65b0ebdd68de"
      },
      "source": [
        "shapes_HR[0]"
      ],
      "execution_count": null,
      "outputs": [
        {
          "data": {
            "text/plain": [
              "[14, 21]"
            ]
          },
          "execution_count": 30,
          "metadata": {
            "tags": []
          },
          "output_type": "execute_result"
        }
      ]
    },
    {
      "cell_type": "code",
      "metadata": {
        "colab": {
          "base_uri": "https://localhost:8080/"
        },
        "id": "jPx2Rxfr2Hmr",
        "outputId": "a6620021-c670-468d-a2a0-d55f5ffeffec"
      },
      "source": [
        "shapes_HR[0]"
      ],
      "execution_count": null,
      "outputs": [
        {
          "data": {
            "text/plain": [
              "[14, 21]"
            ]
          },
          "execution_count": 26,
          "metadata": {
            "tags": []
          },
          "output_type": "execute_result"
        }
      ]
    },
    {
      "cell_type": "code",
      "metadata": {
        "colab": {
          "base_uri": "https://localhost:8080/"
        },
        "id": "ihVTtln3ossK",
        "outputId": "37ef5df1-3a53-4fb8-c343-28b912cfdae9"
      },
      "source": [
        "len(os.listdir('/content/drive/My Drive/SRGAN/LR'))"
      ],
      "execution_count": null,
      "outputs": [
        {
          "data": {
            "text/plain": [
              "591633"
            ]
          },
          "execution_count": 28,
          "metadata": {},
          "output_type": "execute_result"
        }
      ]
    },
    {
      "cell_type": "markdown",
      "metadata": {
        "id": "_Cnqd8UryuUZ"
      },
      "source": [
        "## Creating generator for data pipelining"
      ]
    },
    {
      "cell_type": "code",
      "metadata": {
        "id": "woKqU11lc6wy"
      },
      "source": [
        "#parameter \n",
        "patch_size=48\n",
        "batch_size=222"
      ],
      "execution_count": null,
      "outputs": []
    },
    {
      "cell_type": "code",
      "metadata": {
        "id": "XLq9FBQdyqAl"
      },
      "source": [
        "def read(path_HR,path_LR):\n",
        "\n",
        "    # 1)reading the content of the path\n",
        "\n",
        "     # 3)Normalizing the image\n",
        "\n",
        "    # 1)reading the content of the path\n",
        "    content_HR=tf.io.read_file(path_HR)\n",
        "    content_LR=tf.io.read_file(path_LR)\n",
        "     \n",
        "    # 2)decoding the content\n",
        "    image_HR=tf.io.decode_png(content_HR,channels=3)\n",
        "    image_LR=tf.io.decode_png(content_LR,channels=3)\n",
        "     \n",
        "    image_HR = tf.image.convert_image_dtype(image_HR, tf.float32)\n",
        "    image_LR = tf.image.convert_image_dtype(image_LR, tf.float32)\n",
        "\n",
        "\n",
        "    patches_HR= Total_patches(image_HR,patch_size,'HR')\n",
        "    patches_LR= Total_patches(image_LR,patch_size,'LR')\n",
        "\n",
        "    return patches_HR,patches_LR"
      ],
      "execution_count": null,
      "outputs": []
    },
    {
      "cell_type": "code",
      "metadata": {
        "id": "f8U6BHqZSF1V"
      },
      "source": [
        "def pipeline(path_HR,path_LR):\n",
        "\n",
        "   dataset=tf.data.Dataset.from_tensor_slices((path_HR,path_LR))\n",
        "    \n",
        "   \n",
        "   #reading the images.....................................................\n",
        "   dataset=dataset.map(read,num_parallel_calls=tf.data.experimental.AUTOTUNE)\n",
        "   \n",
        "\n",
        "   #Creating the batch\n",
        "   dataset=dataset.batch(batch_size=batch_size,drop_remainder=True)\n",
        "   \n",
        "   #augmenting the batch images which will significantly improve the speed of transformation\n",
        "   #dataset=dataset.map(augmentation,num_parallel_calls=tf.data.experimental.AUTOTUNE)\n",
        "\n",
        "\n",
        "   #All the batches will be stored in the cache after the first iteration\n",
        "   dataset.cache()\n",
        "\n",
        "   #shuffeling \n",
        "   dataset=dataset.shuffle(buffer_size=25)\n",
        "   dataset = dataset.repeat()\n",
        "\n",
        "   dataset.prefetch(tf.data.experimental.AUTOTUNE)   \n",
        "\n",
        "\n",
        "   return dataset\n",
        "\n"
      ],
      "execution_count": null,
      "outputs": []
    },
    {
      "cell_type": "code",
      "metadata": {
        "id": "h36IYsjKyxbj"
      },
      "source": [
        "def pipeline(HR_pat,LR_pat):\n",
        "\n",
        "   dataset=tf.data.Dataset.from_tensor_slices((HR_pat,LR_pat))\n",
        "    \n",
        "   \n",
        "   #reading the images.....................................................\n",
        "   dataset=dataset.map(read,num_parallel_calls=tf.data.experimental.AUTOTUNE)\n",
        "\n",
        "   #Creating the batch\n",
        "   dataset=dataset.batch(batch_size=batch_size,drop_remainder=True)\n",
        "   \n",
        "   #augmenting the batch images which will significantly improve the speed of transformation\n",
        "   #dataset=dataset.map(augmentation,num_parallel_calls=tf.data.experimental.AUTOTUNE)\n",
        "\n",
        "\n",
        "   #All the batches will be stored in the cache after the first iteration\n",
        "   dataset.cache()\n",
        "\n",
        "   #shuffeling \n",
        "   dataset=dataset.shuffle(buffer_size=25)\n",
        "   dataset = dataset.repeat()\n",
        "\n",
        "   dataset.prefetch(tf.data.experimental.AUTOTUNE)   \n",
        "\n",
        "\n",
        "   return dataset\n"
      ],
      "execution_count": null,
      "outputs": []
    },
    {
      "cell_type": "code",
      "metadata": {
        "id": "4VdMKb8syzzf"
      },
      "source": [
        "dataset= pipeline(path_to_HR[:100],path_to_LR[:100])\n",
        "dataset\n"
      ],
      "execution_count": null,
      "outputs": []
    },
    {
      "cell_type": "markdown",
      "metadata": {
        "id": "YZZOPJqQJn3a"
      },
      "source": [
        "## GMGAN MODEL"
      ]
    },
    {
      "cell_type": "code",
      "metadata": {
        "id": "v8ArYL5nJ0Sa"
      },
      "source": [
        "Growth_rate=16\n",
        "\n",
        "def dense_block(inpt):\n",
        "    \"\"\"\n",
        "    Dense block containes total 4 conv blocks with leakyRelu \n",
        "    activation, followed by post conv layer\n",
        "    Params: tensorflow layer\n",
        "    Returns: tensorflow layer\n",
        "    \"\"\"\n",
        "    b1 = Conv2D(Growth_rate, kernel_size=3, strides=1, padding='same')(inpt)\n",
        "    b1 = LeakyReLU(0.2)(b1)\n",
        "    b1 = Concatenate()([inpt,b1])\n",
        "\n",
        "    b2 = Conv2D(Growth_rate, kernel_size=3, strides=1, padding='same')(b1)\n",
        "    b2 = LeakyReLU(0.2)(b2)\n",
        "    b2 = Concatenate()([inpt,b1,b2]) \n",
        "\n",
        "    b3 = Conv2D(Growth_rate, kernel_size=3, strides=1, padding='same')(b2)\n",
        "    b3 = LeakyReLU(0.2)(b3)\n",
        "    b3 = Concatenate()([inpt,b1,b2,b3])\n",
        "\n",
        "    b4 = Conv2D(Growth_rate, kernel_size=3, strides=1, padding='same')(b3)\n",
        "    b4 = LeakyReLU(0.2)(b4)\n",
        "    b4 = Concatenate()([inpt,b1,b2,b3,b4])\n",
        "\n",
        "    b5 = Conv2D(Growth_rate, kernel_size=3, strides=1, padding='same')(b4)\n",
        "    b5 = Lambda(lambda x:x*0.2)(b5)\n",
        "    b5 = add([b5, inpt])\n",
        "    \n",
        "    return b5\n",
        "\n",
        "def RRDB(inpt):\n",
        "    \"\"\"\n",
        "    RRDB(residual in residual dense block) contained three dense  \n",
        "    block, each block followed by beta contant multiplication(0.2) \n",
        "    and addition with dense block input layer.\n",
        "    Params: tensorflow layer\n",
        "    Returns: tensorflow layer\n",
        "    \"\"\"\n",
        "    x = dense_block(inpt)\n",
        "\n",
        "    x = dense_block(x)\n",
        "\n",
        "    x = dense_block(x)\n",
        "\n",
        "    x = Lambda(lambda x:x*0.2)(x)\n",
        "\n",
        "    out = add([x,inpt])\n",
        "    return out"
      ],
      "execution_count": null,
      "outputs": []
    },
    {
      "cell_type": "code",
      "metadata": {
        "colab": {
          "base_uri": "https://localhost:8080/"
        },
        "id": "srMcRoAvp59z",
        "outputId": "d9953c5c-4676-4e7c-e305-e21738ebe874"
      },
      "source": [
        "#Creating GMGAN\n",
        "\n",
        "def Generator_model():\n",
        " input=Input(shape=(48,48,3),name='Input')\n",
        "\n",
        "#First convolution layer\n",
        " x1= Conv2D(filters=Growth_rate,kernel_size=3,padding='Same',name='conv1')(input) \n",
        "\n",
        " r1=RRDB(x1) #first RRDB\n",
        "\n",
        " r2=RRDB(r1) #second RRDB\n",
        "\n",
        " r3=RRDB(r2) #third RRDB\n",
        "\n",
        " r4=RRDB(r3) #forth RRDB\n",
        "\n",
        " r5=RRDB(r4) #fifth RRDB\n",
        "\n",
        "#convolution layer after RRDB block\n",
        " x2= Conv2D(filters=Growth_rate,kernel_size=3,padding='Same')(r5) \n",
        "\n",
        " x=add([x2,x1]) #skip connection\n",
        "\n",
        "#Upsampling the LOW RESOLUTION IMAGE to increase the number of pixel by 2x in super resolution image\n",
        " x= UpSampling2D(size=(2,2))(x)\n",
        "\n",
        " x= Conv2D(filters=Growth_rate,kernel_size=3,padding='Same')(x) \n",
        "\n",
        " output= Conv2D(filters=3,kernel_size=9,padding='Same')(x) \n",
        "\n",
        "\n",
        " model=Model(input,output)\n",
        " model.summary()\n",
        " return model\n",
        "\n",
        "generator=Generator_model()"
      ],
      "execution_count": null,
      "outputs": [
        {
          "name": "stdout",
          "output_type": "stream",
          "text": [
            "Model: \"functional_1\"\n",
            "__________________________________________________________________________________________________\n",
            "Layer (type)                    Output Shape         Param #     Connected to                     \n",
            "==================================================================================================\n",
            "Input (InputLayer)              [(None, 48, 48, 3)]  0                                            \n",
            "__________________________________________________________________________________________________\n",
            "conv1 (Conv2D)                  (None, 48, 48, 16)   448         Input[0][0]                      \n",
            "__________________________________________________________________________________________________\n",
            "conv2d (Conv2D)                 (None, 48, 48, 16)   2320        conv1[0][0]                      \n",
            "__________________________________________________________________________________________________\n",
            "leaky_re_lu (LeakyReLU)         (None, 48, 48, 16)   0           conv2d[0][0]                     \n",
            "__________________________________________________________________________________________________\n",
            "concatenate (Concatenate)       (None, 48, 48, 32)   0           conv1[0][0]                      \n",
            "                                                                 leaky_re_lu[0][0]                \n",
            "__________________________________________________________________________________________________\n",
            "conv2d_1 (Conv2D)               (None, 48, 48, 16)   4624        concatenate[0][0]                \n",
            "__________________________________________________________________________________________________\n",
            "leaky_re_lu_1 (LeakyReLU)       (None, 48, 48, 16)   0           conv2d_1[0][0]                   \n",
            "__________________________________________________________________________________________________\n",
            "concatenate_1 (Concatenate)     (None, 48, 48, 64)   0           conv1[0][0]                      \n",
            "                                                                 concatenate[0][0]                \n",
            "                                                                 leaky_re_lu_1[0][0]              \n",
            "__________________________________________________________________________________________________\n",
            "conv2d_2 (Conv2D)               (None, 48, 48, 16)   9232        concatenate_1[0][0]              \n",
            "__________________________________________________________________________________________________\n",
            "leaky_re_lu_2 (LeakyReLU)       (None, 48, 48, 16)   0           conv2d_2[0][0]                   \n",
            "__________________________________________________________________________________________________\n",
            "concatenate_2 (Concatenate)     (None, 48, 48, 128)  0           conv1[0][0]                      \n",
            "                                                                 concatenate[0][0]                \n",
            "                                                                 concatenate_1[0][0]              \n",
            "                                                                 leaky_re_lu_2[0][0]              \n",
            "__________________________________________________________________________________________________\n",
            "conv2d_3 (Conv2D)               (None, 48, 48, 16)   18448       concatenate_2[0][0]              \n",
            "__________________________________________________________________________________________________\n",
            "leaky_re_lu_3 (LeakyReLU)       (None, 48, 48, 16)   0           conv2d_3[0][0]                   \n",
            "__________________________________________________________________________________________________\n",
            "concatenate_3 (Concatenate)     (None, 48, 48, 256)  0           conv1[0][0]                      \n",
            "                                                                 concatenate[0][0]                \n",
            "                                                                 concatenate_1[0][0]              \n",
            "                                                                 concatenate_2[0][0]              \n",
            "                                                                 leaky_re_lu_3[0][0]              \n",
            "__________________________________________________________________________________________________\n",
            "conv2d_4 (Conv2D)               (None, 48, 48, 16)   36880       concatenate_3[0][0]              \n",
            "__________________________________________________________________________________________________\n",
            "lambda (Lambda)                 (None, 48, 48, 16)   0           conv2d_4[0][0]                   \n",
            "__________________________________________________________________________________________________\n",
            "add (Add)                       (None, 48, 48, 16)   0           lambda[0][0]                     \n",
            "                                                                 conv1[0][0]                      \n",
            "__________________________________________________________________________________________________\n",
            "conv2d_5 (Conv2D)               (None, 48, 48, 16)   2320        add[0][0]                        \n",
            "__________________________________________________________________________________________________\n",
            "leaky_re_lu_4 (LeakyReLU)       (None, 48, 48, 16)   0           conv2d_5[0][0]                   \n",
            "__________________________________________________________________________________________________\n",
            "concatenate_4 (Concatenate)     (None, 48, 48, 32)   0           add[0][0]                        \n",
            "                                                                 leaky_re_lu_4[0][0]              \n",
            "__________________________________________________________________________________________________\n",
            "conv2d_6 (Conv2D)               (None, 48, 48, 16)   4624        concatenate_4[0][0]              \n",
            "__________________________________________________________________________________________________\n",
            "leaky_re_lu_5 (LeakyReLU)       (None, 48, 48, 16)   0           conv2d_6[0][0]                   \n",
            "__________________________________________________________________________________________________\n",
            "concatenate_5 (Concatenate)     (None, 48, 48, 64)   0           add[0][0]                        \n",
            "                                                                 concatenate_4[0][0]              \n",
            "                                                                 leaky_re_lu_5[0][0]              \n",
            "__________________________________________________________________________________________________\n",
            "conv2d_7 (Conv2D)               (None, 48, 48, 16)   9232        concatenate_5[0][0]              \n",
            "__________________________________________________________________________________________________\n",
            "leaky_re_lu_6 (LeakyReLU)       (None, 48, 48, 16)   0           conv2d_7[0][0]                   \n",
            "__________________________________________________________________________________________________\n",
            "concatenate_6 (Concatenate)     (None, 48, 48, 128)  0           add[0][0]                        \n",
            "                                                                 concatenate_4[0][0]              \n",
            "                                                                 concatenate_5[0][0]              \n",
            "                                                                 leaky_re_lu_6[0][0]              \n",
            "__________________________________________________________________________________________________\n",
            "conv2d_8 (Conv2D)               (None, 48, 48, 16)   18448       concatenate_6[0][0]              \n",
            "__________________________________________________________________________________________________\n",
            "leaky_re_lu_7 (LeakyReLU)       (None, 48, 48, 16)   0           conv2d_8[0][0]                   \n",
            "__________________________________________________________________________________________________\n",
            "concatenate_7 (Concatenate)     (None, 48, 48, 256)  0           add[0][0]                        \n",
            "                                                                 concatenate_4[0][0]              \n",
            "                                                                 concatenate_5[0][0]              \n",
            "                                                                 concatenate_6[0][0]              \n",
            "                                                                 leaky_re_lu_7[0][0]              \n",
            "__________________________________________________________________________________________________\n",
            "conv2d_9 (Conv2D)               (None, 48, 48, 16)   36880       concatenate_7[0][0]              \n",
            "__________________________________________________________________________________________________\n",
            "lambda_1 (Lambda)               (None, 48, 48, 16)   0           conv2d_9[0][0]                   \n",
            "__________________________________________________________________________________________________\n",
            "add_1 (Add)                     (None, 48, 48, 16)   0           lambda_1[0][0]                   \n",
            "                                                                 add[0][0]                        \n",
            "__________________________________________________________________________________________________\n",
            "conv2d_10 (Conv2D)              (None, 48, 48, 16)   2320        add_1[0][0]                      \n",
            "__________________________________________________________________________________________________\n",
            "leaky_re_lu_8 (LeakyReLU)       (None, 48, 48, 16)   0           conv2d_10[0][0]                  \n",
            "__________________________________________________________________________________________________\n",
            "concatenate_8 (Concatenate)     (None, 48, 48, 32)   0           add_1[0][0]                      \n",
            "                                                                 leaky_re_lu_8[0][0]              \n",
            "__________________________________________________________________________________________________\n",
            "conv2d_11 (Conv2D)              (None, 48, 48, 16)   4624        concatenate_8[0][0]              \n",
            "__________________________________________________________________________________________________\n",
            "leaky_re_lu_9 (LeakyReLU)       (None, 48, 48, 16)   0           conv2d_11[0][0]                  \n",
            "__________________________________________________________________________________________________\n",
            "concatenate_9 (Concatenate)     (None, 48, 48, 64)   0           add_1[0][0]                      \n",
            "                                                                 concatenate_8[0][0]              \n",
            "                                                                 leaky_re_lu_9[0][0]              \n",
            "__________________________________________________________________________________________________\n",
            "conv2d_12 (Conv2D)              (None, 48, 48, 16)   9232        concatenate_9[0][0]              \n",
            "__________________________________________________________________________________________________\n",
            "leaky_re_lu_10 (LeakyReLU)      (None, 48, 48, 16)   0           conv2d_12[0][0]                  \n",
            "__________________________________________________________________________________________________\n",
            "concatenate_10 (Concatenate)    (None, 48, 48, 128)  0           add_1[0][0]                      \n",
            "                                                                 concatenate_8[0][0]              \n",
            "                                                                 concatenate_9[0][0]              \n",
            "                                                                 leaky_re_lu_10[0][0]             \n",
            "__________________________________________________________________________________________________\n",
            "conv2d_13 (Conv2D)              (None, 48, 48, 16)   18448       concatenate_10[0][0]             \n",
            "__________________________________________________________________________________________________\n",
            "leaky_re_lu_11 (LeakyReLU)      (None, 48, 48, 16)   0           conv2d_13[0][0]                  \n",
            "__________________________________________________________________________________________________\n",
            "concatenate_11 (Concatenate)    (None, 48, 48, 256)  0           add_1[0][0]                      \n",
            "                                                                 concatenate_8[0][0]              \n",
            "                                                                 concatenate_9[0][0]              \n",
            "                                                                 concatenate_10[0][0]             \n",
            "                                                                 leaky_re_lu_11[0][0]             \n",
            "__________________________________________________________________________________________________\n",
            "conv2d_14 (Conv2D)              (None, 48, 48, 16)   36880       concatenate_11[0][0]             \n",
            "__________________________________________________________________________________________________\n",
            "lambda_2 (Lambda)               (None, 48, 48, 16)   0           conv2d_14[0][0]                  \n",
            "__________________________________________________________________________________________________\n",
            "add_2 (Add)                     (None, 48, 48, 16)   0           lambda_2[0][0]                   \n",
            "                                                                 add_1[0][0]                      \n",
            "__________________________________________________________________________________________________\n",
            "lambda_3 (Lambda)               (None, 48, 48, 16)   0           add_2[0][0]                      \n",
            "__________________________________________________________________________________________________\n",
            "add_3 (Add)                     (None, 48, 48, 16)   0           lambda_3[0][0]                   \n",
            "                                                                 conv1[0][0]                      \n",
            "__________________________________________________________________________________________________\n",
            "conv2d_15 (Conv2D)              (None, 48, 48, 16)   2320        add_3[0][0]                      \n",
            "__________________________________________________________________________________________________\n",
            "leaky_re_lu_12 (LeakyReLU)      (None, 48, 48, 16)   0           conv2d_15[0][0]                  \n",
            "__________________________________________________________________________________________________\n",
            "concatenate_12 (Concatenate)    (None, 48, 48, 32)   0           add_3[0][0]                      \n",
            "                                                                 leaky_re_lu_12[0][0]             \n",
            "__________________________________________________________________________________________________\n",
            "conv2d_16 (Conv2D)              (None, 48, 48, 16)   4624        concatenate_12[0][0]             \n",
            "__________________________________________________________________________________________________\n",
            "leaky_re_lu_13 (LeakyReLU)      (None, 48, 48, 16)   0           conv2d_16[0][0]                  \n",
            "__________________________________________________________________________________________________\n",
            "concatenate_13 (Concatenate)    (None, 48, 48, 64)   0           add_3[0][0]                      \n",
            "                                                                 concatenate_12[0][0]             \n",
            "                                                                 leaky_re_lu_13[0][0]             \n",
            "__________________________________________________________________________________________________\n",
            "conv2d_17 (Conv2D)              (None, 48, 48, 16)   9232        concatenate_13[0][0]             \n",
            "__________________________________________________________________________________________________\n",
            "leaky_re_lu_14 (LeakyReLU)      (None, 48, 48, 16)   0           conv2d_17[0][0]                  \n",
            "__________________________________________________________________________________________________\n",
            "concatenate_14 (Concatenate)    (None, 48, 48, 128)  0           add_3[0][0]                      \n",
            "                                                                 concatenate_12[0][0]             \n",
            "                                                                 concatenate_13[0][0]             \n",
            "                                                                 leaky_re_lu_14[0][0]             \n",
            "__________________________________________________________________________________________________\n",
            "conv2d_18 (Conv2D)              (None, 48, 48, 16)   18448       concatenate_14[0][0]             \n",
            "__________________________________________________________________________________________________\n",
            "leaky_re_lu_15 (LeakyReLU)      (None, 48, 48, 16)   0           conv2d_18[0][0]                  \n",
            "__________________________________________________________________________________________________\n",
            "concatenate_15 (Concatenate)    (None, 48, 48, 256)  0           add_3[0][0]                      \n",
            "                                                                 concatenate_12[0][0]             \n",
            "                                                                 concatenate_13[0][0]             \n",
            "                                                                 concatenate_14[0][0]             \n",
            "                                                                 leaky_re_lu_15[0][0]             \n",
            "__________________________________________________________________________________________________\n",
            "conv2d_19 (Conv2D)              (None, 48, 48, 16)   36880       concatenate_15[0][0]             \n",
            "__________________________________________________________________________________________________\n",
            "lambda_4 (Lambda)               (None, 48, 48, 16)   0           conv2d_19[0][0]                  \n",
            "__________________________________________________________________________________________________\n",
            "add_4 (Add)                     (None, 48, 48, 16)   0           lambda_4[0][0]                   \n",
            "                                                                 add_3[0][0]                      \n",
            "__________________________________________________________________________________________________\n",
            "conv2d_20 (Conv2D)              (None, 48, 48, 16)   2320        add_4[0][0]                      \n",
            "__________________________________________________________________________________________________\n",
            "leaky_re_lu_16 (LeakyReLU)      (None, 48, 48, 16)   0           conv2d_20[0][0]                  \n",
            "__________________________________________________________________________________________________\n",
            "concatenate_16 (Concatenate)    (None, 48, 48, 32)   0           add_4[0][0]                      \n",
            "                                                                 leaky_re_lu_16[0][0]             \n",
            "__________________________________________________________________________________________________\n",
            "conv2d_21 (Conv2D)              (None, 48, 48, 16)   4624        concatenate_16[0][0]             \n",
            "__________________________________________________________________________________________________\n",
            "leaky_re_lu_17 (LeakyReLU)      (None, 48, 48, 16)   0           conv2d_21[0][0]                  \n",
            "__________________________________________________________________________________________________\n",
            "concatenate_17 (Concatenate)    (None, 48, 48, 64)   0           add_4[0][0]                      \n",
            "                                                                 concatenate_16[0][0]             \n",
            "                                                                 leaky_re_lu_17[0][0]             \n",
            "__________________________________________________________________________________________________\n",
            "conv2d_22 (Conv2D)              (None, 48, 48, 16)   9232        concatenate_17[0][0]             \n",
            "__________________________________________________________________________________________________\n",
            "leaky_re_lu_18 (LeakyReLU)      (None, 48, 48, 16)   0           conv2d_22[0][0]                  \n",
            "__________________________________________________________________________________________________\n",
            "concatenate_18 (Concatenate)    (None, 48, 48, 128)  0           add_4[0][0]                      \n",
            "                                                                 concatenate_16[0][0]             \n",
            "                                                                 concatenate_17[0][0]             \n",
            "                                                                 leaky_re_lu_18[0][0]             \n",
            "__________________________________________________________________________________________________\n",
            "conv2d_23 (Conv2D)              (None, 48, 48, 16)   18448       concatenate_18[0][0]             \n",
            "__________________________________________________________________________________________________\n",
            "leaky_re_lu_19 (LeakyReLU)      (None, 48, 48, 16)   0           conv2d_23[0][0]                  \n",
            "__________________________________________________________________________________________________\n",
            "concatenate_19 (Concatenate)    (None, 48, 48, 256)  0           add_4[0][0]                      \n",
            "                                                                 concatenate_16[0][0]             \n",
            "                                                                 concatenate_17[0][0]             \n",
            "                                                                 concatenate_18[0][0]             \n",
            "                                                                 leaky_re_lu_19[0][0]             \n",
            "__________________________________________________________________________________________________\n",
            "conv2d_24 (Conv2D)              (None, 48, 48, 16)   36880       concatenate_19[0][0]             \n",
            "__________________________________________________________________________________________________\n",
            "lambda_5 (Lambda)               (None, 48, 48, 16)   0           conv2d_24[0][0]                  \n",
            "__________________________________________________________________________________________________\n",
            "add_5 (Add)                     (None, 48, 48, 16)   0           lambda_5[0][0]                   \n",
            "                                                                 add_4[0][0]                      \n",
            "__________________________________________________________________________________________________\n",
            "conv2d_25 (Conv2D)              (None, 48, 48, 16)   2320        add_5[0][0]                      \n",
            "__________________________________________________________________________________________________\n",
            "leaky_re_lu_20 (LeakyReLU)      (None, 48, 48, 16)   0           conv2d_25[0][0]                  \n",
            "__________________________________________________________________________________________________\n",
            "concatenate_20 (Concatenate)    (None, 48, 48, 32)   0           add_5[0][0]                      \n",
            "                                                                 leaky_re_lu_20[0][0]             \n",
            "__________________________________________________________________________________________________\n",
            "conv2d_26 (Conv2D)              (None, 48, 48, 16)   4624        concatenate_20[0][0]             \n",
            "__________________________________________________________________________________________________\n",
            "leaky_re_lu_21 (LeakyReLU)      (None, 48, 48, 16)   0           conv2d_26[0][0]                  \n",
            "__________________________________________________________________________________________________\n",
            "concatenate_21 (Concatenate)    (None, 48, 48, 64)   0           add_5[0][0]                      \n",
            "                                                                 concatenate_20[0][0]             \n",
            "                                                                 leaky_re_lu_21[0][0]             \n",
            "__________________________________________________________________________________________________\n",
            "conv2d_27 (Conv2D)              (None, 48, 48, 16)   9232        concatenate_21[0][0]             \n",
            "__________________________________________________________________________________________________\n",
            "leaky_re_lu_22 (LeakyReLU)      (None, 48, 48, 16)   0           conv2d_27[0][0]                  \n",
            "__________________________________________________________________________________________________\n",
            "concatenate_22 (Concatenate)    (None, 48, 48, 128)  0           add_5[0][0]                      \n",
            "                                                                 concatenate_20[0][0]             \n",
            "                                                                 concatenate_21[0][0]             \n",
            "                                                                 leaky_re_lu_22[0][0]             \n",
            "__________________________________________________________________________________________________\n",
            "conv2d_28 (Conv2D)              (None, 48, 48, 16)   18448       concatenate_22[0][0]             \n",
            "__________________________________________________________________________________________________\n",
            "leaky_re_lu_23 (LeakyReLU)      (None, 48, 48, 16)   0           conv2d_28[0][0]                  \n",
            "__________________________________________________________________________________________________\n",
            "concatenate_23 (Concatenate)    (None, 48, 48, 256)  0           add_5[0][0]                      \n",
            "                                                                 concatenate_20[0][0]             \n",
            "                                                                 concatenate_21[0][0]             \n",
            "                                                                 concatenate_22[0][0]             \n",
            "                                                                 leaky_re_lu_23[0][0]             \n",
            "__________________________________________________________________________________________________\n",
            "conv2d_29 (Conv2D)              (None, 48, 48, 16)   36880       concatenate_23[0][0]             \n",
            "__________________________________________________________________________________________________\n",
            "lambda_6 (Lambda)               (None, 48, 48, 16)   0           conv2d_29[0][0]                  \n",
            "__________________________________________________________________________________________________\n",
            "add_6 (Add)                     (None, 48, 48, 16)   0           lambda_6[0][0]                   \n",
            "                                                                 add_5[0][0]                      \n",
            "__________________________________________________________________________________________________\n",
            "lambda_7 (Lambda)               (None, 48, 48, 16)   0           add_6[0][0]                      \n",
            "__________________________________________________________________________________________________\n",
            "add_7 (Add)                     (None, 48, 48, 16)   0           lambda_7[0][0]                   \n",
            "                                                                 add_3[0][0]                      \n",
            "__________________________________________________________________________________________________\n",
            "conv2d_30 (Conv2D)              (None, 48, 48, 16)   2320        add_7[0][0]                      \n",
            "__________________________________________________________________________________________________\n",
            "leaky_re_lu_24 (LeakyReLU)      (None, 48, 48, 16)   0           conv2d_30[0][0]                  \n",
            "__________________________________________________________________________________________________\n",
            "concatenate_24 (Concatenate)    (None, 48, 48, 32)   0           add_7[0][0]                      \n",
            "                                                                 leaky_re_lu_24[0][0]             \n",
            "__________________________________________________________________________________________________\n",
            "conv2d_31 (Conv2D)              (None, 48, 48, 16)   4624        concatenate_24[0][0]             \n",
            "__________________________________________________________________________________________________\n",
            "leaky_re_lu_25 (LeakyReLU)      (None, 48, 48, 16)   0           conv2d_31[0][0]                  \n",
            "__________________________________________________________________________________________________\n",
            "concatenate_25 (Concatenate)    (None, 48, 48, 64)   0           add_7[0][0]                      \n",
            "                                                                 concatenate_24[0][0]             \n",
            "                                                                 leaky_re_lu_25[0][0]             \n",
            "__________________________________________________________________________________________________\n",
            "conv2d_32 (Conv2D)              (None, 48, 48, 16)   9232        concatenate_25[0][0]             \n",
            "__________________________________________________________________________________________________\n",
            "leaky_re_lu_26 (LeakyReLU)      (None, 48, 48, 16)   0           conv2d_32[0][0]                  \n",
            "__________________________________________________________________________________________________\n",
            "concatenate_26 (Concatenate)    (None, 48, 48, 128)  0           add_7[0][0]                      \n",
            "                                                                 concatenate_24[0][0]             \n",
            "                                                                 concatenate_25[0][0]             \n",
            "                                                                 leaky_re_lu_26[0][0]             \n",
            "__________________________________________________________________________________________________\n",
            "conv2d_33 (Conv2D)              (None, 48, 48, 16)   18448       concatenate_26[0][0]             \n",
            "__________________________________________________________________________________________________\n",
            "leaky_re_lu_27 (LeakyReLU)      (None, 48, 48, 16)   0           conv2d_33[0][0]                  \n",
            "__________________________________________________________________________________________________\n",
            "concatenate_27 (Concatenate)    (None, 48, 48, 256)  0           add_7[0][0]                      \n",
            "                                                                 concatenate_24[0][0]             \n",
            "                                                                 concatenate_25[0][0]             \n",
            "                                                                 concatenate_26[0][0]             \n",
            "                                                                 leaky_re_lu_27[0][0]             \n",
            "__________________________________________________________________________________________________\n",
            "conv2d_34 (Conv2D)              (None, 48, 48, 16)   36880       concatenate_27[0][0]             \n",
            "__________________________________________________________________________________________________\n",
            "lambda_8 (Lambda)               (None, 48, 48, 16)   0           conv2d_34[0][0]                  \n",
            "__________________________________________________________________________________________________\n",
            "add_8 (Add)                     (None, 48, 48, 16)   0           lambda_8[0][0]                   \n",
            "                                                                 add_7[0][0]                      \n",
            "__________________________________________________________________________________________________\n",
            "conv2d_35 (Conv2D)              (None, 48, 48, 16)   2320        add_8[0][0]                      \n",
            "__________________________________________________________________________________________________\n",
            "leaky_re_lu_28 (LeakyReLU)      (None, 48, 48, 16)   0           conv2d_35[0][0]                  \n",
            "__________________________________________________________________________________________________\n",
            "concatenate_28 (Concatenate)    (None, 48, 48, 32)   0           add_8[0][0]                      \n",
            "                                                                 leaky_re_lu_28[0][0]             \n",
            "__________________________________________________________________________________________________\n",
            "conv2d_36 (Conv2D)              (None, 48, 48, 16)   4624        concatenate_28[0][0]             \n",
            "__________________________________________________________________________________________________\n",
            "leaky_re_lu_29 (LeakyReLU)      (None, 48, 48, 16)   0           conv2d_36[0][0]                  \n",
            "__________________________________________________________________________________________________\n",
            "concatenate_29 (Concatenate)    (None, 48, 48, 64)   0           add_8[0][0]                      \n",
            "                                                                 concatenate_28[0][0]             \n",
            "                                                                 leaky_re_lu_29[0][0]             \n",
            "__________________________________________________________________________________________________\n",
            "conv2d_37 (Conv2D)              (None, 48, 48, 16)   9232        concatenate_29[0][0]             \n",
            "__________________________________________________________________________________________________\n",
            "leaky_re_lu_30 (LeakyReLU)      (None, 48, 48, 16)   0           conv2d_37[0][0]                  \n",
            "__________________________________________________________________________________________________\n",
            "concatenate_30 (Concatenate)    (None, 48, 48, 128)  0           add_8[0][0]                      \n",
            "                                                                 concatenate_28[0][0]             \n",
            "                                                                 concatenate_29[0][0]             \n",
            "                                                                 leaky_re_lu_30[0][0]             \n",
            "__________________________________________________________________________________________________\n",
            "conv2d_38 (Conv2D)              (None, 48, 48, 16)   18448       concatenate_30[0][0]             \n",
            "__________________________________________________________________________________________________\n",
            "leaky_re_lu_31 (LeakyReLU)      (None, 48, 48, 16)   0           conv2d_38[0][0]                  \n",
            "__________________________________________________________________________________________________\n",
            "concatenate_31 (Concatenate)    (None, 48, 48, 256)  0           add_8[0][0]                      \n",
            "                                                                 concatenate_28[0][0]             \n",
            "                                                                 concatenate_29[0][0]             \n",
            "                                                                 concatenate_30[0][0]             \n",
            "                                                                 leaky_re_lu_31[0][0]             \n",
            "__________________________________________________________________________________________________\n",
            "conv2d_39 (Conv2D)              (None, 48, 48, 16)   36880       concatenate_31[0][0]             \n",
            "__________________________________________________________________________________________________\n",
            "lambda_9 (Lambda)               (None, 48, 48, 16)   0           conv2d_39[0][0]                  \n",
            "__________________________________________________________________________________________________\n",
            "add_9 (Add)                     (None, 48, 48, 16)   0           lambda_9[0][0]                   \n",
            "                                                                 add_8[0][0]                      \n",
            "__________________________________________________________________________________________________\n",
            "conv2d_40 (Conv2D)              (None, 48, 48, 16)   2320        add_9[0][0]                      \n",
            "__________________________________________________________________________________________________\n",
            "leaky_re_lu_32 (LeakyReLU)      (None, 48, 48, 16)   0           conv2d_40[0][0]                  \n",
            "__________________________________________________________________________________________________\n",
            "concatenate_32 (Concatenate)    (None, 48, 48, 32)   0           add_9[0][0]                      \n",
            "                                                                 leaky_re_lu_32[0][0]             \n",
            "__________________________________________________________________________________________________\n",
            "conv2d_41 (Conv2D)              (None, 48, 48, 16)   4624        concatenate_32[0][0]             \n",
            "__________________________________________________________________________________________________\n",
            "leaky_re_lu_33 (LeakyReLU)      (None, 48, 48, 16)   0           conv2d_41[0][0]                  \n",
            "__________________________________________________________________________________________________\n",
            "concatenate_33 (Concatenate)    (None, 48, 48, 64)   0           add_9[0][0]                      \n",
            "                                                                 concatenate_32[0][0]             \n",
            "                                                                 leaky_re_lu_33[0][0]             \n",
            "__________________________________________________________________________________________________\n",
            "conv2d_42 (Conv2D)              (None, 48, 48, 16)   9232        concatenate_33[0][0]             \n",
            "__________________________________________________________________________________________________\n",
            "leaky_re_lu_34 (LeakyReLU)      (None, 48, 48, 16)   0           conv2d_42[0][0]                  \n",
            "__________________________________________________________________________________________________\n",
            "concatenate_34 (Concatenate)    (None, 48, 48, 128)  0           add_9[0][0]                      \n",
            "                                                                 concatenate_32[0][0]             \n",
            "                                                                 concatenate_33[0][0]             \n",
            "                                                                 leaky_re_lu_34[0][0]             \n",
            "__________________________________________________________________________________________________\n",
            "conv2d_43 (Conv2D)              (None, 48, 48, 16)   18448       concatenate_34[0][0]             \n",
            "__________________________________________________________________________________________________\n",
            "leaky_re_lu_35 (LeakyReLU)      (None, 48, 48, 16)   0           conv2d_43[0][0]                  \n",
            "__________________________________________________________________________________________________\n",
            "concatenate_35 (Concatenate)    (None, 48, 48, 256)  0           add_9[0][0]                      \n",
            "                                                                 concatenate_32[0][0]             \n",
            "                                                                 concatenate_33[0][0]             \n",
            "                                                                 concatenate_34[0][0]             \n",
            "                                                                 leaky_re_lu_35[0][0]             \n",
            "__________________________________________________________________________________________________\n",
            "conv2d_44 (Conv2D)              (None, 48, 48, 16)   36880       concatenate_35[0][0]             \n",
            "__________________________________________________________________________________________________\n",
            "lambda_10 (Lambda)              (None, 48, 48, 16)   0           conv2d_44[0][0]                  \n",
            "__________________________________________________________________________________________________\n",
            "add_10 (Add)                    (None, 48, 48, 16)   0           lambda_10[0][0]                  \n",
            "                                                                 add_9[0][0]                      \n",
            "__________________________________________________________________________________________________\n",
            "lambda_11 (Lambda)              (None, 48, 48, 16)   0           add_10[0][0]                     \n",
            "__________________________________________________________________________________________________\n",
            "add_11 (Add)                    (None, 48, 48, 16)   0           lambda_11[0][0]                  \n",
            "                                                                 add_7[0][0]                      \n",
            "__________________________________________________________________________________________________\n",
            "conv2d_45 (Conv2D)              (None, 48, 48, 16)   2320        add_11[0][0]                     \n",
            "__________________________________________________________________________________________________\n",
            "leaky_re_lu_36 (LeakyReLU)      (None, 48, 48, 16)   0           conv2d_45[0][0]                  \n",
            "__________________________________________________________________________________________________\n",
            "concatenate_36 (Concatenate)    (None, 48, 48, 32)   0           add_11[0][0]                     \n",
            "                                                                 leaky_re_lu_36[0][0]             \n",
            "__________________________________________________________________________________________________\n",
            "conv2d_46 (Conv2D)              (None, 48, 48, 16)   4624        concatenate_36[0][0]             \n",
            "__________________________________________________________________________________________________\n",
            "leaky_re_lu_37 (LeakyReLU)      (None, 48, 48, 16)   0           conv2d_46[0][0]                  \n",
            "__________________________________________________________________________________________________\n",
            "concatenate_37 (Concatenate)    (None, 48, 48, 64)   0           add_11[0][0]                     \n",
            "                                                                 concatenate_36[0][0]             \n",
            "                                                                 leaky_re_lu_37[0][0]             \n",
            "__________________________________________________________________________________________________\n",
            "conv2d_47 (Conv2D)              (None, 48, 48, 16)   9232        concatenate_37[0][0]             \n",
            "__________________________________________________________________________________________________\n",
            "leaky_re_lu_38 (LeakyReLU)      (None, 48, 48, 16)   0           conv2d_47[0][0]                  \n",
            "__________________________________________________________________________________________________\n",
            "concatenate_38 (Concatenate)    (None, 48, 48, 128)  0           add_11[0][0]                     \n",
            "                                                                 concatenate_36[0][0]             \n",
            "                                                                 concatenate_37[0][0]             \n",
            "                                                                 leaky_re_lu_38[0][0]             \n",
            "__________________________________________________________________________________________________\n",
            "conv2d_48 (Conv2D)              (None, 48, 48, 16)   18448       concatenate_38[0][0]             \n",
            "__________________________________________________________________________________________________\n",
            "leaky_re_lu_39 (LeakyReLU)      (None, 48, 48, 16)   0           conv2d_48[0][0]                  \n",
            "__________________________________________________________________________________________________\n",
            "concatenate_39 (Concatenate)    (None, 48, 48, 256)  0           add_11[0][0]                     \n",
            "                                                                 concatenate_36[0][0]             \n",
            "                                                                 concatenate_37[0][0]             \n",
            "                                                                 concatenate_38[0][0]             \n",
            "                                                                 leaky_re_lu_39[0][0]             \n",
            "__________________________________________________________________________________________________\n",
            "conv2d_49 (Conv2D)              (None, 48, 48, 16)   36880       concatenate_39[0][0]             \n",
            "__________________________________________________________________________________________________\n",
            "lambda_12 (Lambda)              (None, 48, 48, 16)   0           conv2d_49[0][0]                  \n",
            "__________________________________________________________________________________________________\n",
            "add_12 (Add)                    (None, 48, 48, 16)   0           lambda_12[0][0]                  \n",
            "                                                                 add_11[0][0]                     \n",
            "__________________________________________________________________________________________________\n",
            "conv2d_50 (Conv2D)              (None, 48, 48, 16)   2320        add_12[0][0]                     \n",
            "__________________________________________________________________________________________________\n",
            "leaky_re_lu_40 (LeakyReLU)      (None, 48, 48, 16)   0           conv2d_50[0][0]                  \n",
            "__________________________________________________________________________________________________\n",
            "concatenate_40 (Concatenate)    (None, 48, 48, 32)   0           add_12[0][0]                     \n",
            "                                                                 leaky_re_lu_40[0][0]             \n",
            "__________________________________________________________________________________________________\n",
            "conv2d_51 (Conv2D)              (None, 48, 48, 16)   4624        concatenate_40[0][0]             \n",
            "__________________________________________________________________________________________________\n",
            "leaky_re_lu_41 (LeakyReLU)      (None, 48, 48, 16)   0           conv2d_51[0][0]                  \n",
            "__________________________________________________________________________________________________\n",
            "concatenate_41 (Concatenate)    (None, 48, 48, 64)   0           add_12[0][0]                     \n",
            "                                                                 concatenate_40[0][0]             \n",
            "                                                                 leaky_re_lu_41[0][0]             \n",
            "__________________________________________________________________________________________________\n",
            "conv2d_52 (Conv2D)              (None, 48, 48, 16)   9232        concatenate_41[0][0]             \n",
            "__________________________________________________________________________________________________\n",
            "leaky_re_lu_42 (LeakyReLU)      (None, 48, 48, 16)   0           conv2d_52[0][0]                  \n",
            "__________________________________________________________________________________________________\n",
            "concatenate_42 (Concatenate)    (None, 48, 48, 128)  0           add_12[0][0]                     \n",
            "                                                                 concatenate_40[0][0]             \n",
            "                                                                 concatenate_41[0][0]             \n",
            "                                                                 leaky_re_lu_42[0][0]             \n",
            "__________________________________________________________________________________________________\n",
            "conv2d_53 (Conv2D)              (None, 48, 48, 16)   18448       concatenate_42[0][0]             \n",
            "__________________________________________________________________________________________________\n",
            "leaky_re_lu_43 (LeakyReLU)      (None, 48, 48, 16)   0           conv2d_53[0][0]                  \n",
            "__________________________________________________________________________________________________\n",
            "concatenate_43 (Concatenate)    (None, 48, 48, 256)  0           add_12[0][0]                     \n",
            "                                                                 concatenate_40[0][0]             \n",
            "                                                                 concatenate_41[0][0]             \n",
            "                                                                 concatenate_42[0][0]             \n",
            "                                                                 leaky_re_lu_43[0][0]             \n",
            "__________________________________________________________________________________________________\n",
            "conv2d_54 (Conv2D)              (None, 48, 48, 16)   36880       concatenate_43[0][0]             \n",
            "__________________________________________________________________________________________________\n",
            "lambda_13 (Lambda)              (None, 48, 48, 16)   0           conv2d_54[0][0]                  \n",
            "__________________________________________________________________________________________________\n",
            "add_13 (Add)                    (None, 48, 48, 16)   0           lambda_13[0][0]                  \n",
            "                                                                 add_12[0][0]                     \n",
            "__________________________________________________________________________________________________\n",
            "conv2d_55 (Conv2D)              (None, 48, 48, 16)   2320        add_13[0][0]                     \n",
            "__________________________________________________________________________________________________\n",
            "leaky_re_lu_44 (LeakyReLU)      (None, 48, 48, 16)   0           conv2d_55[0][0]                  \n",
            "__________________________________________________________________________________________________\n",
            "concatenate_44 (Concatenate)    (None, 48, 48, 32)   0           add_13[0][0]                     \n",
            "                                                                 leaky_re_lu_44[0][0]             \n",
            "__________________________________________________________________________________________________\n",
            "conv2d_56 (Conv2D)              (None, 48, 48, 16)   4624        concatenate_44[0][0]             \n",
            "__________________________________________________________________________________________________\n",
            "leaky_re_lu_45 (LeakyReLU)      (None, 48, 48, 16)   0           conv2d_56[0][0]                  \n",
            "__________________________________________________________________________________________________\n",
            "concatenate_45 (Concatenate)    (None, 48, 48, 64)   0           add_13[0][0]                     \n",
            "                                                                 concatenate_44[0][0]             \n",
            "                                                                 leaky_re_lu_45[0][0]             \n",
            "__________________________________________________________________________________________________\n",
            "conv2d_57 (Conv2D)              (None, 48, 48, 16)   9232        concatenate_45[0][0]             \n",
            "__________________________________________________________________________________________________\n",
            "leaky_re_lu_46 (LeakyReLU)      (None, 48, 48, 16)   0           conv2d_57[0][0]                  \n",
            "__________________________________________________________________________________________________\n",
            "concatenate_46 (Concatenate)    (None, 48, 48, 128)  0           add_13[0][0]                     \n",
            "                                                                 concatenate_44[0][0]             \n",
            "                                                                 concatenate_45[0][0]             \n",
            "                                                                 leaky_re_lu_46[0][0]             \n",
            "__________________________________________________________________________________________________\n",
            "conv2d_58 (Conv2D)              (None, 48, 48, 16)   18448       concatenate_46[0][0]             \n",
            "__________________________________________________________________________________________________\n",
            "leaky_re_lu_47 (LeakyReLU)      (None, 48, 48, 16)   0           conv2d_58[0][0]                  \n",
            "__________________________________________________________________________________________________\n",
            "concatenate_47 (Concatenate)    (None, 48, 48, 256)  0           add_13[0][0]                     \n",
            "                                                                 concatenate_44[0][0]             \n",
            "                                                                 concatenate_45[0][0]             \n",
            "                                                                 concatenate_46[0][0]             \n",
            "                                                                 leaky_re_lu_47[0][0]             \n",
            "__________________________________________________________________________________________________\n",
            "conv2d_59 (Conv2D)              (None, 48, 48, 16)   36880       concatenate_47[0][0]             \n",
            "__________________________________________________________________________________________________\n",
            "lambda_14 (Lambda)              (None, 48, 48, 16)   0           conv2d_59[0][0]                  \n",
            "__________________________________________________________________________________________________\n",
            "add_14 (Add)                    (None, 48, 48, 16)   0           lambda_14[0][0]                  \n",
            "                                                                 add_13[0][0]                     \n",
            "__________________________________________________________________________________________________\n",
            "lambda_15 (Lambda)              (None, 48, 48, 16)   0           add_14[0][0]                     \n",
            "__________________________________________________________________________________________________\n",
            "add_15 (Add)                    (None, 48, 48, 16)   0           lambda_15[0][0]                  \n",
            "                                                                 add_11[0][0]                     \n",
            "__________________________________________________________________________________________________\n",
            "conv2d_60 (Conv2D)              (None, 48, 48, 16)   2320        add_15[0][0]                     \n",
            "__________________________________________________________________________________________________\n",
            "leaky_re_lu_48 (LeakyReLU)      (None, 48, 48, 16)   0           conv2d_60[0][0]                  \n",
            "__________________________________________________________________________________________________\n",
            "concatenate_48 (Concatenate)    (None, 48, 48, 32)   0           add_15[0][0]                     \n",
            "                                                                 leaky_re_lu_48[0][0]             \n",
            "__________________________________________________________________________________________________\n",
            "conv2d_61 (Conv2D)              (None, 48, 48, 16)   4624        concatenate_48[0][0]             \n",
            "__________________________________________________________________________________________________\n",
            "leaky_re_lu_49 (LeakyReLU)      (None, 48, 48, 16)   0           conv2d_61[0][0]                  \n",
            "__________________________________________________________________________________________________\n",
            "concatenate_49 (Concatenate)    (None, 48, 48, 64)   0           add_15[0][0]                     \n",
            "                                                                 concatenate_48[0][0]             \n",
            "                                                                 leaky_re_lu_49[0][0]             \n",
            "__________________________________________________________________________________________________\n",
            "conv2d_62 (Conv2D)              (None, 48, 48, 16)   9232        concatenate_49[0][0]             \n",
            "__________________________________________________________________________________________________\n",
            "leaky_re_lu_50 (LeakyReLU)      (None, 48, 48, 16)   0           conv2d_62[0][0]                  \n",
            "__________________________________________________________________________________________________\n",
            "concatenate_50 (Concatenate)    (None, 48, 48, 128)  0           add_15[0][0]                     \n",
            "                                                                 concatenate_48[0][0]             \n",
            "                                                                 concatenate_49[0][0]             \n",
            "                                                                 leaky_re_lu_50[0][0]             \n",
            "__________________________________________________________________________________________________\n",
            "conv2d_63 (Conv2D)              (None, 48, 48, 16)   18448       concatenate_50[0][0]             \n",
            "__________________________________________________________________________________________________\n",
            "leaky_re_lu_51 (LeakyReLU)      (None, 48, 48, 16)   0           conv2d_63[0][0]                  \n",
            "__________________________________________________________________________________________________\n",
            "concatenate_51 (Concatenate)    (None, 48, 48, 256)  0           add_15[0][0]                     \n",
            "                                                                 concatenate_48[0][0]             \n",
            "                                                                 concatenate_49[0][0]             \n",
            "                                                                 concatenate_50[0][0]             \n",
            "                                                                 leaky_re_lu_51[0][0]             \n",
            "__________________________________________________________________________________________________\n",
            "conv2d_64 (Conv2D)              (None, 48, 48, 16)   36880       concatenate_51[0][0]             \n",
            "__________________________________________________________________________________________________\n",
            "lambda_16 (Lambda)              (None, 48, 48, 16)   0           conv2d_64[0][0]                  \n",
            "__________________________________________________________________________________________________\n",
            "add_16 (Add)                    (None, 48, 48, 16)   0           lambda_16[0][0]                  \n",
            "                                                                 add_15[0][0]                     \n",
            "__________________________________________________________________________________________________\n",
            "conv2d_65 (Conv2D)              (None, 48, 48, 16)   2320        add_16[0][0]                     \n",
            "__________________________________________________________________________________________________\n",
            "leaky_re_lu_52 (LeakyReLU)      (None, 48, 48, 16)   0           conv2d_65[0][0]                  \n",
            "__________________________________________________________________________________________________\n",
            "concatenate_52 (Concatenate)    (None, 48, 48, 32)   0           add_16[0][0]                     \n",
            "                                                                 leaky_re_lu_52[0][0]             \n",
            "__________________________________________________________________________________________________\n",
            "conv2d_66 (Conv2D)              (None, 48, 48, 16)   4624        concatenate_52[0][0]             \n",
            "__________________________________________________________________________________________________\n",
            "leaky_re_lu_53 (LeakyReLU)      (None, 48, 48, 16)   0           conv2d_66[0][0]                  \n",
            "__________________________________________________________________________________________________\n",
            "concatenate_53 (Concatenate)    (None, 48, 48, 64)   0           add_16[0][0]                     \n",
            "                                                                 concatenate_52[0][0]             \n",
            "                                                                 leaky_re_lu_53[0][0]             \n",
            "__________________________________________________________________________________________________\n",
            "conv2d_67 (Conv2D)              (None, 48, 48, 16)   9232        concatenate_53[0][0]             \n",
            "__________________________________________________________________________________________________\n",
            "leaky_re_lu_54 (LeakyReLU)      (None, 48, 48, 16)   0           conv2d_67[0][0]                  \n",
            "__________________________________________________________________________________________________\n",
            "concatenate_54 (Concatenate)    (None, 48, 48, 128)  0           add_16[0][0]                     \n",
            "                                                                 concatenate_52[0][0]             \n",
            "                                                                 concatenate_53[0][0]             \n",
            "                                                                 leaky_re_lu_54[0][0]             \n",
            "__________________________________________________________________________________________________\n",
            "conv2d_68 (Conv2D)              (None, 48, 48, 16)   18448       concatenate_54[0][0]             \n",
            "__________________________________________________________________________________________________\n",
            "leaky_re_lu_55 (LeakyReLU)      (None, 48, 48, 16)   0           conv2d_68[0][0]                  \n",
            "__________________________________________________________________________________________________\n",
            "concatenate_55 (Concatenate)    (None, 48, 48, 256)  0           add_16[0][0]                     \n",
            "                                                                 concatenate_52[0][0]             \n",
            "                                                                 concatenate_53[0][0]             \n",
            "                                                                 concatenate_54[0][0]             \n",
            "                                                                 leaky_re_lu_55[0][0]             \n",
            "__________________________________________________________________________________________________\n",
            "conv2d_69 (Conv2D)              (None, 48, 48, 16)   36880       concatenate_55[0][0]             \n",
            "__________________________________________________________________________________________________\n",
            "lambda_17 (Lambda)              (None, 48, 48, 16)   0           conv2d_69[0][0]                  \n",
            "__________________________________________________________________________________________________\n",
            "add_17 (Add)                    (None, 48, 48, 16)   0           lambda_17[0][0]                  \n",
            "                                                                 add_16[0][0]                     \n",
            "__________________________________________________________________________________________________\n",
            "conv2d_70 (Conv2D)              (None, 48, 48, 16)   2320        add_17[0][0]                     \n",
            "__________________________________________________________________________________________________\n",
            "leaky_re_lu_56 (LeakyReLU)      (None, 48, 48, 16)   0           conv2d_70[0][0]                  \n",
            "__________________________________________________________________________________________________\n",
            "concatenate_56 (Concatenate)    (None, 48, 48, 32)   0           add_17[0][0]                     \n",
            "                                                                 leaky_re_lu_56[0][0]             \n",
            "__________________________________________________________________________________________________\n",
            "conv2d_71 (Conv2D)              (None, 48, 48, 16)   4624        concatenate_56[0][0]             \n",
            "__________________________________________________________________________________________________\n",
            "leaky_re_lu_57 (LeakyReLU)      (None, 48, 48, 16)   0           conv2d_71[0][0]                  \n",
            "__________________________________________________________________________________________________\n",
            "concatenate_57 (Concatenate)    (None, 48, 48, 64)   0           add_17[0][0]                     \n",
            "                                                                 concatenate_56[0][0]             \n",
            "                                                                 leaky_re_lu_57[0][0]             \n",
            "__________________________________________________________________________________________________\n",
            "conv2d_72 (Conv2D)              (None, 48, 48, 16)   9232        concatenate_57[0][0]             \n",
            "__________________________________________________________________________________________________\n",
            "leaky_re_lu_58 (LeakyReLU)      (None, 48, 48, 16)   0           conv2d_72[0][0]                  \n",
            "__________________________________________________________________________________________________\n",
            "concatenate_58 (Concatenate)    (None, 48, 48, 128)  0           add_17[0][0]                     \n",
            "                                                                 concatenate_56[0][0]             \n",
            "                                                                 concatenate_57[0][0]             \n",
            "                                                                 leaky_re_lu_58[0][0]             \n",
            "__________________________________________________________________________________________________\n",
            "conv2d_73 (Conv2D)              (None, 48, 48, 16)   18448       concatenate_58[0][0]             \n",
            "__________________________________________________________________________________________________\n",
            "leaky_re_lu_59 (LeakyReLU)      (None, 48, 48, 16)   0           conv2d_73[0][0]                  \n",
            "__________________________________________________________________________________________________\n",
            "concatenate_59 (Concatenate)    (None, 48, 48, 256)  0           add_17[0][0]                     \n",
            "                                                                 concatenate_56[0][0]             \n",
            "                                                                 concatenate_57[0][0]             \n",
            "                                                                 concatenate_58[0][0]             \n",
            "                                                                 leaky_re_lu_59[0][0]             \n",
            "__________________________________________________________________________________________________\n",
            "conv2d_74 (Conv2D)              (None, 48, 48, 16)   36880       concatenate_59[0][0]             \n",
            "__________________________________________________________________________________________________\n",
            "lambda_18 (Lambda)              (None, 48, 48, 16)   0           conv2d_74[0][0]                  \n",
            "__________________________________________________________________________________________________\n",
            "add_18 (Add)                    (None, 48, 48, 16)   0           lambda_18[0][0]                  \n",
            "                                                                 add_17[0][0]                     \n",
            "__________________________________________________________________________________________________\n",
            "lambda_19 (Lambda)              (None, 48, 48, 16)   0           add_18[0][0]                     \n",
            "__________________________________________________________________________________________________\n",
            "add_19 (Add)                    (None, 48, 48, 16)   0           lambda_19[0][0]                  \n",
            "                                                                 add_15[0][0]                     \n",
            "__________________________________________________________________________________________________\n",
            "conv2d_75 (Conv2D)              (None, 48, 48, 16)   2320        add_19[0][0]                     \n",
            "__________________________________________________________________________________________________\n",
            "add_20 (Add)                    (None, 48, 48, 16)   0           conv2d_75[0][0]                  \n",
            "                                                                 conv1[0][0]                      \n",
            "__________________________________________________________________________________________________\n",
            "up_sampling2d (UpSampling2D)    (None, 96, 96, 16)   0           add_20[0][0]                     \n",
            "__________________________________________________________________________________________________\n",
            "conv2d_76 (Conv2D)              (None, 96, 96, 16)   2320        up_sampling2d[0][0]              \n",
            "__________________________________________________________________________________________________\n",
            "conv2d_77 (Conv2D)              (None, 96, 96, 3)    3891        conv2d_76[0][0]                  \n",
            "==================================================================================================\n",
            "Total params: 1,081,539\n",
            "Trainable params: 1,081,539\n",
            "Non-trainable params: 0\n",
            "__________________________________________________________________________________________________\n"
          ]
        }
      ]
    },
    {
      "cell_type": "code",
      "metadata": {
        "id": "d1ASN3hC3HXi"
      },
      "source": [
        "def conv_block(input,filter,kernel,stride):\n",
        "\n",
        "        x=Conv2D(filters=filter,kernel_size=kernel,strides=stride,padding='valid')(input) \n",
        "        x=BatchNormalization()(x)\n",
        "        x=LeakyReLU()(x)\n",
        "        return x\n"
      ],
      "execution_count": null,
      "outputs": []
    },
    {
      "cell_type": "code",
      "metadata": {
        "id": "O4XAN4CrzP9q"
      },
      "source": [
        "#Creating discriminator\n",
        "\n",
        "\n",
        "input=Input(shape=(96,96,3),name='Input')\n",
        "\n",
        "\n",
        "x= Conv2D(filters=Growth_rate,kernel_size=3,padding='Same',name='conv1')(input) \n",
        "x=LeakyReLU()(x)\n",
        "\n",
        "x= conv_block(x,64,3,2)\n",
        "\n",
        "x= conv_block(x,128,3,1)\n",
        "\n",
        "x= conv_block(x,128,3,2)\n",
        "\n",
        "x= conv_block(x,256,3,1)\n",
        "\n",
        "x= conv_block(x,256,3,2)\n",
        "\n",
        "x= conv_block(x,512,3,1)\n",
        "\n",
        "x= conv_block(x,512,3,2)\n",
        "\n",
        "x= conv_block(x,1,3,2)\n",
        "\n",
        "x= GlobalAveragePooling2D()(x)\n",
        "output= s()(x)\n",
        "# x=Flatten()(x) #feature \n",
        "# x=Dense(1024)(x)\n",
        "# x=LeakyReLU()(x)\n",
        "\n",
        "# output=Dense(1,activation='sigmoid')(x)\n",
        "\n",
        "discriminator=Model(input,output)\n",
        "discriminator.summary()\n",
        "\n"
      ],
      "execution_count": null,
      "outputs": []
    },
    {
      "cell_type": "markdown",
      "metadata": {
        "id": "GimHBbOIJurE"
      },
      "source": [
        "## Losses"
      ]
    },
    {
      "cell_type": "markdown",
      "metadata": {
        "id": "fMr5t1JhIxtF"
      },
      "source": [
        "Generator loss:\n",
        "   I_G= I_GA+I_Q+I_P+I_M \n",
        "\n",
        "   where:\n",
        "\n",
        "   I_GA is adverserial loss\n",
        "\n",
        "   I_Q is the GMSD loss\n",
        "\n",
        "   I_p is the perceptual loss\n",
        "   I_M is the mean square error \n"
      ]
    },
    {
      "cell_type": "code",
      "metadata": {
        "id": "7_AxXKB415NP"
      },
      "source": [
        "# @tf.function\n",
        "def GMSD(HR,SR):\n",
        "\n",
        "   # print('The shape of input image',HR.shape)\n",
        "\n",
        "   sobel_HR=tf.image.sobel_edges(HR) #[H-2,W-2,3,2]\n",
        "   # print('The  shape of sobel_HR:',sobel_HR.shape)\n",
        "#    print('The output after sobel_HR',sobel_HR[0,0,0])\n",
        "\n",
        "   sobel_HR= sobel_HR**2 #[H-2,2-2,3,2]\n",
        "   G_HR=tf.math.sqrt(tf.math.reduce_sum(sobel_HR,axis=-1)) #[H-2,W-2,3,1] \n",
        "#    print('The output G_HR',G_HR[0,0,0])\n",
        "   # print('The  shape of G_HR:',G_HR.shape)\n",
        "#    print('\\n')\n",
        "#    print('*****************************************************')\n",
        "\n",
        "\n",
        "   #calculating the gradient matrix value for super resolution image\n",
        " \n",
        "   sobel_SR=tf.image.sobel_edges(SR) #[H-2,W-2,3,2]\n",
        "   # print('The  shape of sobel_SR:',sobel_SR.shape)\n",
        "#    print('The output after sobel_GR',sobel_SR[0,0,0])\n",
        "\n",
        "\n",
        "   sobel_SR= sobel_SR**2 #[H-2,2-2,3,2]\n",
        "   G_SR=tf.math.sqrt(tf.math.reduce_sum(sobel_SR,axis=-1)) #[H-2,W-2,3,1] \n",
        "#    print('The output after joining G_SR',G_HR[0,0,0])\n",
        "   # print('The  shape of G_SR:',G_SR.shape)\n",
        "#    print('\\n')\n",
        "#    print('******/***********************************************')\n",
        "\n",
        "\n",
        "    #DEFINING THE PAREAMETER C\n",
        "   c=tf.math.multiply(2*G_SR,G_HR)+0.000001\n",
        "   d= tf.math.square(G_SR)+tf.math.square(G_HR)+0.000001\n",
        "   GMS=c/d \n",
        "#    print('The  shape of GMS:',GMS)\n",
        "\n",
        "   GMSM=tf.math.reduce_mean(GMS) #will get a scalar value\n",
        "#    print('The GMSM value is :',GMSM)\n",
        "\n",
        "   GMSD=tf.math.sqrt(tf.math.reduce_mean(tf.math.square((GMS-GMSM))))\n",
        "#    print('The GMSD value is :',GMSD)\n",
        "   return GMSD\n",
        "\n",
        "\n",
        "def MSE(HR,SR):\n",
        "    a= tf.keras.losses.MSE(SR,HR) #[batch,height,width]\n",
        "    return tf.math.reduce_mean(a)\n",
        "    \n",
        "\n",
        "def perpectual_loss(HR,SR):\n",
        "    VGG_19 = tf.keras.applications.VGG19(input_shape=(96,96,3),include_top=False,weights='imagenet')\n",
        "\n",
        "    VGG_SR= VGG_19(SR)\n",
        "    VGG_HR= VGG_19(HR)\n",
        "    perpectual= MSE(VGG_SR,VGG_HR)\n",
        "    return perpectual\n"
      ],
      "execution_count": null,
      "outputs": []
    },
    {
      "cell_type": "code",
      "metadata": {
        "id": "Cae4IeFp9P4V"
      },
      "source": [
        "# This method returns a helper function to compute cross entropy loss\n",
        "cross_entropy = tf.keras.losses.BinaryCrossentropy(from_logits=True)\n",
        "# @tf.function\n",
        "def generator_loss(HR,HR_pred,SR,SR_pred):\n",
        "  \n",
        "    I_GA= cross_entropy(tf.ones(shape=(batch_size,1)), SR_pred)\n",
        "    # print('\\n')\n",
        "    # print('The value of GA IS ',I_GA)\n",
        "    I_Q= GMSD(HR,SR)\n",
        "    I_M= MSE(HR,SR)\n",
        "    I_P= perpectual_loss(HR,SR)\n",
        "    generator_los= 0.005*I_GA+I_Q+0.01*I_M+I_P\n",
        "    return generator_los\n"
      ],
      "execution_count": null,
      "outputs": []
    },
    {
      "cell_type": "code",
      "metadata": {
        "id": "16tcMgzZAx3U"
      },
      "source": [
        "# @tf.function\n",
        "def discriminator_loss(HR_pred,SR_pred):\n",
        "    discriminator_los= 0.005*cross_entropy(tf.ones(shape=(batch_size,1)),HR_pred)+ cross_entropy(tf.zeros(shape=batch_size),SR_pred)\n",
        "    return discriminator_los"
      ],
      "execution_count": null,
      "outputs": []
    },
    {
      "cell_type": "code",
      "metadata": {
        "id": "X9RmY2K-2umb"
      },
      "source": [
        "generator_optimizer = tf.keras.optimizers.Adam(1e-4)\n",
        "discriminator_optimizer = tf.keras.optimizers.Adam(1e-4)"
      ],
      "execution_count": null,
      "outputs": []
    },
    {
      "cell_type": "markdown",
      "metadata": {
        "id": "OqhcHIlbJ1ph"
      },
      "source": [
        "## Training the model"
      ]
    },
    {
      "cell_type": "code",
      "metadata": {
        "id": "MIADUWtt3Eki"
      },
      "source": [
        "epochs=5"
      ],
      "execution_count": null,
      "outputs": []
    },
    {
      "cell_type": "code",
      "metadata": {
        "id": "NKTqNE6oBypr"
      },
      "source": [
        "checkpoint_dir = 'drive/My Drive/training_checkpoints'\n",
        "checkpoint = tf.train.Checkpoint(generator_optimizer=generator_optimizer,\n",
        "                                 discriminator_optimizer=discriminator_optimizer,\n",
        "                                 generator=generator,\n",
        "                                 discriminator=discriminator)\n"
      ],
      "execution_count": null,
      "outputs": []
    },
    {
      "cell_type": "code",
      "metadata": {
        "id": "qkJy-XGNAE6-"
      },
      "source": [
        "@tf.function\n",
        "def train(dataset, epochs):\n",
        "  for epoch in range(epochs):\n",
        "    #start = time.time()\n",
        "    \n",
        "    for data in tqdm(dataset):\n",
        "        HR,LR= data\n",
        "\n",
        "        with tf.GradientTape() as gen, tf.GradientTape() as dis:\n",
        "    \n",
        "  \n",
        "            SR=generator(LR,training=True)\n",
        "            SR_pred=discriminator(SR,training=True)\n",
        "            HR_pred=discriminator(HR,training=True)\n",
        "    \n",
        "            gen_loss= generator_loss(HR,HR_pred,SR,SR_pred)\n",
        "            # print('The gene loss',gen_loss)\n",
        "  \n",
        "            dis_loss= discriminator_loss(HR_pred,SR_pred)\n",
        "\n",
        "            grad_generator= gen.gradient(gen_loss,generator.trainable_variables)\n",
        "            grad_discriminator= dis.gradient(dis_loss,discriminator.trainable_variables)\n",
        "\n",
        "\n",
        "            generator_optimizer.apply_gradients(zip(grad_generator, generator.trainable_variables))\n",
        "            discriminator_optimizer.apply_gradients(zip(grad_discriminator, discriminator.trainable_variables))\n",
        "\n",
        "\n",
        "    # Save the model at every epochs\n",
        "\n",
        "        checkpoint.write(file_prefix = checkpoint_dir)\n",
        "\n",
        "  # Generate after the final epoch\n",
        "\n"
      ],
      "execution_count": null,
      "outputs": []
    },
    {
      "cell_type": "code",
      "metadata": {
        "colab": {
          "base_uri": "https://localhost:8080/"
        },
        "id": "_9lXOcF9JK9f",
        "outputId": "fa9be487-8319-4c55-97f1-74024ad546cd"
      },
      "source": [
        "train(dataset,epochs)"
      ],
      "execution_count": null,
      "outputs": [
        {
          "name": "stderr",
          "output_type": "stream",
          "text": [
            "\n",
            "\n",
            "\n",
            "\n",
            "0it [00:00, ?it/s]\u001b[A\u001b[A\u001b[A\u001b[A\n",
            "\n",
            "\n",
            "\n",
            "1it [00:05,  5.38s/it]\u001b[A\u001b[A\u001b[A\u001b[A\n",
            "\n",
            "\n",
            "\n",
            "2it [00:11,  5.61s/it]\u001b[A\u001b[A\u001b[A\u001b[A\n",
            "\n",
            "\n",
            "\n",
            "3it [00:16,  5.38s/it]\u001b[A\u001b[A\u001b[A\u001b[A\n",
            "\n",
            "\n",
            "\n",
            "4it [00:21,  5.21s/it]\u001b[A\u001b[A\u001b[A\u001b[A\n",
            "\n",
            "\n",
            "\n",
            "5it [00:25,  5.09s/it]\u001b[A\u001b[A\u001b[A\u001b[A\n",
            "\n",
            "\n",
            "\n",
            "6it [00:31,  5.17s/it]\u001b[A\u001b[A\u001b[A\u001b[A\n",
            "\n",
            "\n",
            "\n",
            "7it [00:36,  5.08s/it]\u001b[A\u001b[A\u001b[A\u001b[A\n",
            "\n",
            "\n",
            "\n",
            "8it [00:40,  4.99s/it]\u001b[A\u001b[A\u001b[A\u001b[A\n",
            "\n",
            "\n",
            "\n",
            "9it [00:45,  4.94s/it]\u001b[A\u001b[A\u001b[A\u001b[A\n",
            "\n",
            "\n",
            "\n",
            "10it [00:50,  4.92s/it]\u001b[A\u001b[A\u001b[A\u001b[A\n",
            "\n",
            "\n",
            "\n",
            "11it [00:56,  5.06s/it]\u001b[A\u001b[A\u001b[A\u001b[A\n",
            "\n",
            "\n",
            "\n",
            "12it [01:00,  5.00s/it]\u001b[A\u001b[A\u001b[A\u001b[A\n",
            "\n",
            "\n",
            "\n",
            "13it [01:05,  4.96s/it]\u001b[A\u001b[A\u001b[A\u001b[A\n",
            "\n",
            "\n",
            "\n",
            "14it [01:10,  4.91s/it]\u001b[A\u001b[A\u001b[A\u001b[A\n",
            "\n",
            "\n",
            "\n",
            "15it [01:15,  4.87s/it]\u001b[A\u001b[A\u001b[A\u001b[A\n",
            "\n",
            "\n",
            "\n",
            "16it [01:20,  4.86s/it]\u001b[A\u001b[A\u001b[A\u001b[A\n",
            "\n",
            "\n",
            "\n",
            "17it [01:25,  5.04s/it]\u001b[A\u001b[A\u001b[A\u001b[A\n",
            "\n",
            "\n",
            "\n",
            "18it [01:30,  4.96s/it]\u001b[A\u001b[A\u001b[A\u001b[A\n",
            "\n",
            "\n",
            "\n",
            "19it [01:35,  4.93s/it]\u001b[A\u001b[A\u001b[A\u001b[A\n",
            "\n",
            "\n",
            "\n",
            "20it [01:40,  4.90s/it]\u001b[A\u001b[A\u001b[A\u001b[A\n",
            "\n",
            "\n",
            "\n",
            "21it [01:44,  4.89s/it]\u001b[A\u001b[A\u001b[A\u001b[A\n",
            "\n",
            "\n",
            "\n",
            "22it [01:49,  4.88s/it]\u001b[A\u001b[A\u001b[A\u001b[A\n",
            "\n",
            "\n",
            "\n",
            "23it [01:54,  4.87s/it]\u001b[A\u001b[A\u001b[A\u001b[A\n",
            "\n",
            "\n",
            "\n",
            "24it [02:00,  5.08s/it]\u001b[A\u001b[A\u001b[A\u001b[A\n",
            "\n",
            "\n",
            "\n",
            "25it [02:05,  5.02s/it]\u001b[A\u001b[A\u001b[A\u001b[A\n",
            "\n",
            "\n",
            "\n",
            "26it [02:09,  4.97s/it]\u001b[A\u001b[A\u001b[A\u001b[A\n",
            "\n",
            "\n",
            "\n",
            "27it [02:14,  4.96s/it]\u001b[A\u001b[A\u001b[A\u001b[A\n",
            "\n",
            "\n",
            "\n",
            "28it [02:19,  4.95s/it]\u001b[A\u001b[A\u001b[A\u001b[A\n",
            "\n",
            "\n",
            "\n",
            "29it [02:24,  4.93s/it]\u001b[A\u001b[A\u001b[A\u001b[A\n",
            "\n",
            "\n",
            "\n",
            "30it [02:29,  4.90s/it]\u001b[A\u001b[A\u001b[A\u001b[A\n",
            "\n",
            "\n",
            "\n",
            "31it [02:34,  4.92s/it]\u001b[A\u001b[A\u001b[A\u001b[A\n",
            "\n",
            "\n",
            "\n",
            "32it [02:39,  4.89s/it]\u001b[A\u001b[A\u001b[A\u001b[A\n",
            "\n",
            "\n",
            "\n",
            "33it [02:44,  5.12s/it]\u001b[A\u001b[A\u001b[A\u001b[A\n",
            "\n",
            "\n",
            "\n",
            "34it [02:49,  5.03s/it]\u001b[A\u001b[A\u001b[A\u001b[A\n",
            "\n",
            "\n",
            "\n",
            "35it [02:54,  4.98s/it]\u001b[A\u001b[A\u001b[A\u001b[A\n",
            "\n",
            "\n",
            "\n",
            "36it [02:59,  4.98s/it]\u001b[A\u001b[A\u001b[A\u001b[A\n",
            "\n",
            "\n",
            "\n",
            "37it [03:04,  4.94s/it]\u001b[A\u001b[A\u001b[A\u001b[A\n",
            "\n",
            "\n",
            "\n",
            "38it [03:09,  4.92s/it]\u001b[A\u001b[A\u001b[A\u001b[A\n",
            "\n",
            "\n",
            "\n",
            "39it [03:14,  4.89s/it]\u001b[A\u001b[A\u001b[A\u001b[A\n",
            "\n",
            "\n",
            "\n",
            "40it [03:19,  4.88s/it]\u001b[A\u001b[A\u001b[A\u001b[A\n",
            "\n",
            "\n",
            "\n",
            "41it [03:23,  4.87s/it]\u001b[A\u001b[A\u001b[A\u001b[A\n",
            "\n",
            "\n",
            "\n",
            "42it [03:28,  4.86s/it]\u001b[A\u001b[A\u001b[A\u001b[A\n",
            "\n",
            "\n",
            "\n",
            "43it [03:33,  4.87s/it]\u001b[A\u001b[A\u001b[A\u001b[A\n",
            "\n",
            "\n",
            "\n",
            "44it [03:39,  5.14s/it]\u001b[A\u001b[A\u001b[A\u001b[A\n",
            "\n",
            "\n",
            "\n",
            "45it [03:44,  5.08s/it]\u001b[A\u001b[A\u001b[A\u001b[A\n",
            "\n",
            "\n",
            "\n",
            "46it [03:49,  5.02s/it]\u001b[A\u001b[A\u001b[A\u001b[A\n",
            "\n",
            "\n",
            "\n",
            "47it [03:54,  4.98s/it]\u001b[A\u001b[A\u001b[A\u001b[A\n",
            "\n",
            "\n",
            "\n",
            "48it [03:59,  4.95s/it]\u001b[A\u001b[A\u001b[A\u001b[A\n",
            "\n",
            "\n",
            "\n",
            "49it [04:03,  4.92s/it]\u001b[A\u001b[A\u001b[A\u001b[A\n",
            "\n",
            "\n",
            "\n",
            "50it [04:08,  4.90s/it]\u001b[A\u001b[A\u001b[A\u001b[A\n",
            "\n",
            "\n",
            "\n",
            "51it [04:13,  4.90s/it]\u001b[A\u001b[A\u001b[A\u001b[A\n",
            "\n",
            "\n",
            "\n",
            "52it [04:18,  4.90s/it]\u001b[A\u001b[A\u001b[A\u001b[A\n",
            "\n",
            "\n",
            "\n",
            "53it [04:23,  4.89s/it]\u001b[A\u001b[A\u001b[A\u001b[A\n",
            "\n",
            "\n",
            "\n",
            "54it [04:28,  4.87s/it]\u001b[A\u001b[A\u001b[A\u001b[A\n",
            "\n",
            "\n",
            "\n",
            "55it [04:33,  4.88s/it]\u001b[A\u001b[A\u001b[A\u001b[A\n",
            "\n",
            "\n",
            "\n",
            "56it [04:38,  4.88s/it]\u001b[A\u001b[A\u001b[A\u001b[A\n",
            "\n",
            "\n",
            "\n",
            "57it [04:43,  5.20s/it]\u001b[A\u001b[A\u001b[A\u001b[A\n",
            "\n",
            "\n",
            "\n",
            "58it [04:48,  5.12s/it]\u001b[A\u001b[A\u001b[A\u001b[A\n",
            "\n",
            "\n",
            "\n",
            "59it [04:53,  5.04s/it]\u001b[A\u001b[A\u001b[A\u001b[A\n",
            "\n",
            "\n",
            "\n",
            "60it [04:58,  4.99s/it]\u001b[A\u001b[A\u001b[A\u001b[A\n",
            "\n",
            "\n",
            "\n",
            "61it [05:03,  4.96s/it]\u001b[A\u001b[A\u001b[A\u001b[A\n",
            "\n",
            "\n",
            "\n",
            "62it [05:08,  4.94s/it]\u001b[A\u001b[A\u001b[A\u001b[A\n",
            "\n",
            "\n",
            "\n",
            "63it [05:13,  4.92s/it]\u001b[A\u001b[A\u001b[A\u001b[A\n",
            "\n",
            "\n",
            "\n",
            "64it [05:18,  4.93s/it]\u001b[A\u001b[A\u001b[A\u001b[A\n",
            "\n",
            "\n",
            "\n",
            "65it [05:23,  4.92s/it]\u001b[A\u001b[A\u001b[A\u001b[A\n",
            "\n",
            "\n",
            "\n",
            "66it [05:27,  4.90s/it]\u001b[A\u001b[A\u001b[A\u001b[A\n",
            "\n",
            "\n",
            "\n",
            "67it [05:32,  4.90s/it]\u001b[A\u001b[A\u001b[A\u001b[A\n",
            "\n",
            "\n",
            "\n",
            "68it [05:37,  4.90s/it]\u001b[A\u001b[A\u001b[A\u001b[A\n",
            "\n",
            "\n",
            "\n",
            "69it [05:42,  4.89s/it]\u001b[A\u001b[A\u001b[A\u001b[A\n",
            "\n",
            "\n",
            "\n",
            "70it [05:47,  4.89s/it]\u001b[A\u001b[A\u001b[A\u001b[A\n",
            "\n",
            "\n",
            "\n",
            "71it [05:52,  4.88s/it]\u001b[A\u001b[A\u001b[A\u001b[A\n",
            "\n",
            "\n",
            "\n",
            "72it [05:57,  4.91s/it]\u001b[A\u001b[A\u001b[A\u001b[A\n",
            "\n",
            "\n",
            "\n",
            "73it [06:03,  5.31s/it]\u001b[A\u001b[A\u001b[A\u001b[A\n",
            "\n",
            "\n",
            "\n",
            "74it [06:08,  5.19s/it]\u001b[A\u001b[A\u001b[A\u001b[A\n",
            "\n",
            "\n",
            "\n",
            "75it [06:13,  5.11s/it]\u001b[A\u001b[A\u001b[A\u001b[A\n",
            "\n",
            "\n",
            "\n",
            "76it [06:18,  5.04s/it]\u001b[A\u001b[A\u001b[A\u001b[A\n",
            "\n",
            "\n",
            "\n",
            "77it [06:23,  5.04s/it]\u001b[A\u001b[A\u001b[A\u001b[A\n",
            "\n",
            "\n",
            "\n",
            "78it [06:28,  5.00s/it]\u001b[A\u001b[A\u001b[A\u001b[A\n",
            "\n",
            "\n",
            "\n",
            "79it [06:33,  4.98s/it]\u001b[A\u001b[A\u001b[A\u001b[A\n",
            "\n",
            "\n",
            "\n",
            "80it [06:38,  4.96s/it]\u001b[A\u001b[A\u001b[A\u001b[A\n",
            "\n",
            "\n",
            "\n",
            "81it [06:42,  4.94s/it]\u001b[A\u001b[A\u001b[A\u001b[A\n",
            "\n",
            "\n",
            "\n",
            "82it [06:47,  4.93s/it]\u001b[A\u001b[A\u001b[A\u001b[A\n",
            "\n",
            "\n",
            "\n",
            "83it [06:52,  4.94s/it]\u001b[A\u001b[A\u001b[A\u001b[A\n",
            "\n",
            "\n",
            "\n",
            "84it [06:58,  5.02s/it]\u001b[A\u001b[A\u001b[A\u001b[A\n",
            "\n",
            "\n",
            "\n",
            "85it [07:02,  4.96s/it]\u001b[A\u001b[A\u001b[A\u001b[A\n",
            "\n",
            "\n",
            "\n",
            "86it [07:07,  4.95s/it]\u001b[A\u001b[A\u001b[A\u001b[A\n",
            "\n",
            "\n",
            "\n",
            "87it [07:12,  4.95s/it]\u001b[A\u001b[A\u001b[A\u001b[A\n",
            "\n",
            "\n",
            "\n",
            "88it [07:17,  4.99s/it]\u001b[A\u001b[A\u001b[A\u001b[A\n",
            "\n",
            "\n",
            "\n",
            "89it [07:23,  5.28s/it]\u001b[A\u001b[A\u001b[A\u001b[A\n",
            "\n",
            "\n",
            "\n",
            "90it [07:29,  5.48s/it]\u001b[A\u001b[A\u001b[A\u001b[A\n",
            "\n",
            "\n",
            "\n",
            "91it [07:34,  5.31s/it]\u001b[A\u001b[A\u001b[A\u001b[A"
          ]
        }
      ]
    },
    {
      "cell_type": "code",
      "metadata": {
        "id": "HYACdjpVPfrp"
      },
      "source": [
        ""
      ],
      "execution_count": null,
      "outputs": []
    }
  ]
}